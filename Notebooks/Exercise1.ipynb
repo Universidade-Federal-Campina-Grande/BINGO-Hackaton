{
 "cells": [
  {
   "cell_type": "markdown",
   "metadata": {},
   "source": [
    "# Exercise\n",
    "\n",
    "We want to explictly show the convolution theorem:\n",
    "\n",
    "Let two function $f(t)$ and $w(t)$. We are going to call $f$ **signal** and $w$ the **window**.  This is the **time-domain**\n",
    "\n",
    "Let us call $F(t)$ the Fourier transform of $f$ and $W$ the Fourier transform of the window function. This is the **frequency-domain**. $W$ is often called **FILTER**. (Actually this is a particular kinf of filter known as *Finite Response Filters - FIR*)\n",
    "\n",
    "Both affirmations are valid:\n",
    "1. Shift theorem\n",
    "$$ x(t - \\tau) \\leftrightarrow e^{(-i \\omega \\tau)} X(\\omega) $$\n",
    "\n",
    "in words, delaying a signal by $\\tau$ seconds multiplies its Fourier Transform by $e^{(-i \\omega \\tau)} $\n",
    "\n",
    "2. Correlation Theorem \n",
    "Consider convolution defined as:\n",
    "$$ (f \\star w)(t) \\equiv \\int_{-\\infty}^\\infty f(\\tau) g(t-\\tau) \\mathrm{d\\tau} $$\n",
    "\n",
    "then\n",
    "\n",
    "$$ f \\star w  = \\mathcal{F}^{-1}\\left\\{\\mathcal{F}\\{f\\}\\cdot \\mathcal{F}\\{w\\}\\right\\} \\equiv \\mathcal{F}^{-1}\\{F \\cdot W\\} $$\n",
    "in words: the convolution of two functions is equal to the inverse fourier transform of the pointwise products of the fourier transform of the functions. (Or convolution operation in time domain is mapped to pointwise product in frequency domain."
   ]
  },
  {
   "cell_type": "markdown",
   "metadata": {},
   "source": [
    "## Build a Discrete time signal\n",
    "We should consider a **discrete time signal**, composed by a constant value plus a random noise coming from a normal distribution with fixed variance.\n",
    "Let the size of your sample be a variable called N_SAMPLES\n",
    "1. Construct the time array (np.arange or np.linspace)\n",
    "2. Construct your function (np.random.normal)\n",
    "3. Plot the function over time with the t axis expressed in seconds.\n",
    "4. Calculate the Fourier transform of your signal (fftpack.fft)\n",
    "5. Construct a vector with your frequencies (fftpack.fftfreq) Convert then to Hertz \n",
    "6. Plot the Fourier and the function side by side \n",
    "7. Plot the spectral response response = 20 * np.log10(np.abs(fftshift(F / abs(F).max()))). This is dB x Hz"
   ]
  },
  {
   "cell_type": "markdown",
   "metadata": {},
   "source": [
    "## Build your window\n",
    "You need to create at least two different windows, one of them should be a top-hat. Use scipy windows, verify the array created\n",
    "1. Plot the Signal and the Filter side by side "
   ]
  },
  {
   "cell_type": "markdown",
   "metadata": {},
   "source": [
    "## Convolve the signal with the window\n",
    "Do different techniques and you will need to think about the boundaries and the sizes to get it right. \n",
    "Try \n",
    "1. numpy convolvy\n",
    "2. astropy convolve\n",
    "3. scipy signal convolve\n",
    "They have different options for input and also different outputs."
   ]
  },
  {
   "cell_type": "markdown",
   "metadata": {},
   "source": [
    "Multiply F by the FIR Filter pointwise and make the inverse Fourier Transform. You should care that the size of this vector should be the same as the vector above. (In one of the cases above this will not be possible). In every cases it would be possible to see how to make the curves match. This routine is important to understand what is actually happening when we filter frequencies."
   ]
  },
  {
   "cell_type": "markdown",
   "metadata": {},
   "source": [
    "It is very likely that you will need to pad your data. You may use the function np.pad for this."
   ]
  },
  {
   "cell_type": "markdown",
   "metadata": {},
   "source": [
    "Where are the difficulties coming from? There are several definitions of Discrete Fourier Transform. They are related by the shift theorem, that's why it is here. \n",
    "When everything goes to the right places you will see one way of the convolution theorem. Then find the other way, take the fourier transform of the convolution array and show it is equal to the pointwise product of the fourier transform of the signal and the filter."
   ]
  },
  {
   "cell_type": "markdown",
   "metadata": {},
   "source": [
    "Can you tell if your FFT is circular or linear? Are there any differences between the algorithms? What the different modes of convolution mean? "
   ]
  },
  {
   "cell_type": "code",
   "execution_count": null,
   "metadata": {},
   "outputs": [],
   "source": []
  }
 ],
 "metadata": {
  "kernelspec": {
   "display_name": "Python [conda env:cosmos3] *",
   "language": "python",
   "name": "conda-env-cosmos3-py"
  },
  "language_info": {
   "codemirror_mode": {
    "name": "ipython",
    "version": 3
   },
   "file_extension": ".py",
   "mimetype": "text/x-python",
   "name": "python",
   "nbconvert_exporter": "python",
   "pygments_lexer": "ipython3",
   "version": "3.7.3"
  },
  "latex_envs": {
   "LaTeX_envs_menu_present": true,
   "autoclose": false,
   "autocomplete": true,
   "bibliofile": "biblio.bib",
   "cite_by": "apalike",
   "current_citInitial": 1,
   "eqLabelWithNumbers": true,
   "eqNumInitial": 1,
   "hotkeys": {
    "equation": "Ctrl-E",
    "itemize": "Ctrl-I"
   },
   "labels_anchors": false,
   "latex_user_defs": false,
   "report_style_numbering": false,
   "user_envs_cfg": false
  },
  "varInspector": {
   "cols": {
    "lenName": 16,
    "lenType": 16,
    "lenVar": 40
   },
   "kernels_config": {
    "python": {
     "delete_cmd_postfix": "",
     "delete_cmd_prefix": "del ",
     "library": "var_list.py",
     "varRefreshCmd": "print(var_dic_list())"
    },
    "r": {
     "delete_cmd_postfix": ") ",
     "delete_cmd_prefix": "rm(",
     "library": "var_list.r",
     "varRefreshCmd": "cat(var_dic_list()) "
    }
   },
   "types_to_exclude": [
    "module",
    "function",
    "builtin_function_or_method",
    "instance",
    "_Feature"
   ],
   "window_display": false
  }
 },
 "nbformat": 4,
 "nbformat_minor": 2
}
