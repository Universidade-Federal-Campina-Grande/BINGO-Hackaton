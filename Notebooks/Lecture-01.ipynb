{
 "cells": [
  {
   "cell_type": "markdown",
   "metadata": {
    "heading_collapsed": true,
    "slideshow": {
     "slide_type": "slide"
    }
   },
   "source": [
    "# BINGO Hackaton - Lecture 01\n",
    "*Luciano Barosi*\n",
    "\n",
    "**BINGO Collaboration**"
   ]
  },
  {
   "cell_type": "markdown",
   "metadata": {
    "hidden": true,
    "slideshow": {
     "slide_type": "slide"
    }
   },
   "source": [
    "## Introduction\n",
    "Our aim is to present a few important softwares and packages useful for studying cosmology.\n",
    "Installing them all can be challenging and we will learn how to set a system for productivity.\n",
    "1. Git\n",
    "2. Docker\n",
    "3. Jupyter\n",
    "4. Python\n",
    "    1. Fundamentals\n",
    "    2. Matplotlib\n",
    "    3. Scipy\n",
    "    4. Numpy\n",
    "    5. Astropy\n",
    "    6. Pandas\n",
    "    7. AstroML\n",
    "5. CFITSIO\n",
    "6. HEALPIX/HEALPY\n",
    "7. Boltzmann Codes\n",
    "    1. CAMB\n",
    "    2. CLASS\n",
    "8. Samplers\n",
    "    1. COSMOMC\n",
    "    2. MONTEPYTHON\n",
    "    3. Polichord\n",
    "    4. Multinest\n",
    "9. Cosmological Parameter Estimators\n",
    "    1. COSMOSIS\n",
    "    2. COBAYA"
   ]
  },
  {
   "cell_type": "markdown",
   "metadata": {
    "hidden": true,
    "slideshow": {
     "slide_type": "slide"
    }
   },
   "source": [
    "## Installing GIT\n",
    "1. Linux Systems\n",
    "\n",
    "````bash\n",
    "sudo apt install git\n",
    "````\n",
    "\n",
    "````bash\n",
    "sudo yum install git\n",
    "````\n",
    "````bash\n",
    "git --version\n",
    "git config --global user.name \"John Doe\"\n",
    "git config --global user.email \"jdoe@email\"\n",
    "````\n",
    "\n",
    "2. Mac OSX\n",
    "\n",
    "Primeiro instale **brew**\n",
    "````bash\n",
    "/usr/bin/ruby -e \"$(curl -fsSL https://raw.githubusercontent.com/Homebrew/install/master/install)\"\n",
    "````\n",
    "````bash\n",
    "brew install git\n",
    "````\n",
    "\n",
    "3. Windows\n",
    "\n",
    "     https://gitforwindows.org/\n",
    "\n"
   ]
  },
  {
   "cell_type": "markdown",
   "metadata": {
    "hidden": true,
    "slideshow": {
     "slide_type": "slide"
    }
   },
   "source": [
    "## Installing Docker\n",
    "1. Linux Systems\n",
    "````bash\n",
    "sudo apt update\n",
    "sudo apt install apt-transport-https ca-certificates curl software-properties-common\n",
    "curl -fsSL https://download.docker.com/linux/ubuntu/gpg | sudo apt-key add -\n",
    "apt-repository \"deb [arch=amd64] https://download.docker.com/linux/ubuntu bionic stable\"\n",
    "sudo apt update\n",
    "sudo apt install docker-ce\n",
    "````\n",
    "Start the docker service after installation and allow non-root users\n",
    "````bash\n",
    "sudo systemctl status docker\n",
    "sudo usermod -aG docker ${USER}\n",
    "````\n",
    "Restart your session\n",
    "\n",
    "2. Mac OSX\n",
    "\n",
    "https://hub.docker.com/?overlay=onboarding\n",
    "\n",
    "3. Windows\n",
    "\n",
    "https://hub.docker.com/?overlay=onboarding\n"
   ]
  },
  {
   "cell_type": "markdown",
   "metadata": {
    "hidden": true,
    "slideshow": {
     "slide_type": "slide"
    }
   },
   "source": [
    "## Docker Basics\n",
    "````bash\n",
    "## Execute Docker image\n",
    "docker run hello-world\n",
    "## List Docker images\n",
    "docker image ls\n",
    "## List Docker containers (running, all, all in quiet mode)\n",
    "docker container ls\n",
    "docker build --tag=friendlyhello .\n",
    "sudo docker commit 8dbd9e392a96 my_img\n",
    "sudo docker run -itd ubuntu:18.04 /bin/bash\n",
    "sudo docker exec -it ubuntu bash\n",
    "docker container rename CONTAINER NEW_NAME\n",
    "````"
   ]
  },
  {
   "cell_type": "markdown",
   "metadata": {
    "heading_collapsed": true,
    "hidden": true,
    "slideshow": {
     "slide_type": "slide"
    }
   },
   "source": [
    "## Starting our Work\n",
    "### Cloning repository\n",
    "````bash\n",
    "git clone https://lbarosi@bitbucket.org/lbarosi/bingo-hackaton.git\n",
    "cd bingo-Hackaton\n",
    "git checkout\n",
    "````"
   ]
  },
  {
   "cell_type": "markdown",
   "metadata": {
    "hidden": true,
    "slideshow": {
     "slide_type": "fragment"
    }
   },
   "source": [
    "### Making the Container\n",
    "````bash\n",
    "time docker build -t lbarosi/cosmos:v1 - < Dockerfile\n",
    "````\n",
    "**real    14m22,561ss**\n"
   ]
  },
  {
   "cell_type": "markdown",
   "metadata": {
    "hidden": true,
    "slideshow": {
     "slide_type": "fragment"
    }
   },
   "source": [
    "### Running the Container\n",
    "````bash\n",
    "docker run -p 8888:8888 -v /home/lbarosi/Dropbox/Workspace/BINGO-PB/Projetos/bingo-hackaton/:/home/cosmos/code -ti lbarosi/cosmos:v1 /bin/bash\n",
    "````"
   ]
  },
  {
   "cell_type": "markdown",
   "metadata": {
    "hidden": true,
    "slideshow": {
     "slide_type": "fragment"
    }
   },
   "source": [
    "### Inside the Container: Tidying things up\n",
    "````bash\n",
    "export path=\"/home/cosmos/code/Scripts:PATH\"\n",
    "cobaya-install cosmo -m /home/cosmos/cobaya\n",
    "pip install jupyterthemes\n",
    "jt -t onedork -T\n",
    "conda install -c conda-forge jupyter_contrib_nbextensions\n",
    "conda install -c damianavila82 rise\n",
    "jupyter-nbextension install rise --py --sys-prefix\n",
    "#enable the nbextension:\n",
    "jupyter-nbextension enable rise --py --sys-prefix\n",
    "jupyter notebook --generate-config\n",
    "jupyter notebook password\n",
    "jupyter notebook --ip 0.0.0.0 --no-browser --allow-root\n",
    "````"
   ]
  },
  {
   "cell_type": "markdown",
   "metadata": {
    "heading_collapsed": true,
    "hidden": true,
    "slideshow": {
     "slide_type": "slide"
    }
   },
   "source": [
    "## What did we get so far?\n",
    "open your browser and navigate to http://localhost:8888\n",
    "**You are now in Jupyter!**"
   ]
  },
  {
   "cell_type": "markdown",
   "metadata": {
    "heading_collapsed": true,
    "hidden": true,
    "slideshow": {
     "slide_type": "fragment"
    }
   },
   "source": [
    "### Ops, you are about to lose all your work!\n",
    "````bash\n",
    "docker container ps\n",
    "docker commit NAME_OF_CONTAINER lbarosi/cosmos:ready\n",
    "````"
   ]
  },
  {
   "cell_type": "markdown",
   "metadata": {
    "heading_collapsed": true,
    "hidden": true,
    "slideshow": {
     "slide_type": "fragment"
    }
   },
   "source": [
    "### Checking the system"
   ]
  },
  {
   "cell_type": "code",
   "execution_count": 5,
   "metadata": {
    "hidden": true,
    "slideshow": {
     "slide_type": "fragment"
    }
   },
   "outputs": [
    {
     "name": "stdout",
     "output_type": "stream",
     "text": [
      "cosmos\n",
      "Linux f16fe8967e0c 4.15.0-55-generic #60-Ubuntu SMP Tue Jul 2 18:22:20 UTC 2019 x86_64 x86_64 x86_64 GNU/Linux\n",
      "Python 3.7.3\n",
      "gcc (Ubuntu 7.4.0-1ubuntu1~18.04.1) 7.4.0\n",
      "Copyright (C) 2017 Free Software Foundation, Inc.\n",
      "This is free software; see the source for copying conditions.  There is NO\n",
      "warranty; not even for MERCHANTABILITY or FITNESS FOR A PARTICULAR PURPOSE.\n",
      "\n",
      "GNU Fortran (Ubuntu 7.4.0-1ubuntu1~18.04.1) 7.4.0\n",
      "Copyright (C) 2017 Free Software Foundation, Inc.\n",
      "This is free software; see the source for copying conditions.  There is NO\n",
      "warranty; not even for MERCHANTABILITY or FITNESS FOR A PARTICULAR PURPOSE.\n",
      "\n",
      "HYDRA build details:\n",
      "    Version:                                 3.2.1\n",
      "    Release Date:                            Fri Nov 10 20:21:01 CST 2017\n",
      "libopenblas-dev:\n",
      "  Installed: 0.2.20+ds-4\n",
      "  Candidate: 0.2.20+ds-4\n",
      "  Version table:\n",
      " *** 0.2.20+ds-4 100\n",
      "        100 /var/lib/dpkg/status\n"
     ]
    }
   ],
   "source": [
    "!whoami\n",
    "!uname -a\n",
    "!python --version\n",
    "!gcc --version\n",
    "!gfortran --version\n",
    "!mpirun --version |head -n 3\n",
    "!apt-cache policy libopenblas-dev"
   ]
  },
  {
   "cell_type": "markdown",
   "metadata": {
    "heading_collapsed": true,
    "hidden": true,
    "slideshow": {
     "slide_type": "slide"
    }
   },
   "source": [
    "### Pythonia"
   ]
  },
  {
   "cell_type": "code",
   "execution_count": 7,
   "metadata": {
    "hidden": true,
    "slideshow": {
     "slide_type": "fragment"
    }
   },
   "outputs": [
    {
     "name": "stdout",
     "output_type": "stream",
     "text": [
      "\n",
      "Please wait a moment while I gather a list of all available modules...\n",
      "\n",
      "Cython              bdb                 jupyter_contrib_core readline\n",
      "IPython             binascii            jupyter_contrib_nbextensions reprlib\n",
      "OpenSSL             binhex              jupyter_core        requests\n",
      "PIL                 bisect              jupyter_highlight_selected_word resource\n",
      "PyQt5               bleach              jupyter_nbextensions_configurator rise\n",
      "__future__          builtins            jupyterthemes       rlcompleter\n",
      "_abc                bz2                 keyword             rmagic\n",
      "_ast                cProfile            kiwisolver          ruamel_yaml\n",
      "_asyncio            calendar            kombine             runpy\n",
      "_bisect             certifi             latex_envs          sched\n",
      "_blake2             cffi                lesscpy             scipy\n",
      "_bootlocale         cgi                 lib2to3             secrets\n",
      "_bz2                cgitb               libarchive          select\n",
      "_cffi_backend       chardet             libfuturize         selectors\n",
      "_codecs             chunk               libpasteurize       send2trash\n",
      "_codecs_cn          classy              linecache           setuptools\n",
      "_codecs_hk          cmath               locale              shelve\n",
      "_codecs_iso2022     cmd                 logging             shlex\n",
      "_codecs_jp          cobaya              lxml                shutil\n",
      "_codecs_kr          code                lzma                signal\n",
      "_codecs_tw          codecs              macpath             sip\n",
      "_collections        codeop              mailbox             sipconfig\n",
      "_collections_abc    collections         mailcap             sipdistutils\n",
      "_compat_pickle      colorsys            markupsafe          site\n",
      "_compression        compileall          marshal             six\n",
      "_contextvars        concurrent          math                sklearn\n",
      "_crypt              conda               matplotlib          smtpd\n",
      "_csv                conda_env           mimetypes           smtplib\n",
      "_ctypes             conda_package_handling mistune             sndhdr\n",
      "_ctypes_test        configparser        mkl                 socket\n",
      "_curses             contextlib          mkl_fft             socketserver\n",
      "_curses_panel       contextvars         mkl_random          socks\n",
      "_datetime           copy                mmap                sockshandler\n",
      "_decimal            copyreg             modulefinder        spwd\n",
      "_dummy_thread       crypt               more_itertools      sqlite3\n",
      "_elementtree        cryptography        mpi4py              sre_compile\n",
      "_functools          csv                 multiprocessing     sre_constants\n",
      "_hashlib            ctypes              nbconvert           sre_parse\n",
      "_heapq              curses              nbformat            ssl\n",
      "_imp                cycler              netrc               stat\n",
      "_io                 cython              nis                 statistics\n",
      "_json               cythonmagic         nntplib             storemagic\n",
      "_locale             dataclasses         nose                string\n",
      "_lsprof             datetime            nose_parameterized  stringprep\n",
      "_lzma               dateutil            notebook            struct\n",
      "_markupbase         dbm                 ntpath              subprocess\n",
      "_md5                decimal             nturl2path          sunau\n",
      "_multibytecodec     decorator           numbers             symbol\n",
      "_multiprocessing    defusedxml          numpy               sympyprinting\n",
      "_opcode             difflib             opcode              symtable\n",
      "_operator           dis                 operator            sys\n",
      "_osx_support        distutils           optparse            sysconfig\n",
      "_pickle             doctest             os                  syslog\n",
      "_posixsubprocess    dummy_threading     ossaudiodev         tabnanny\n",
      "_py_abc             easy_install        packaging           tarfile\n",
      "_pydecimal          email               pandas              telnetlib\n",
      "_pyio               emcee               pandocfilters       tempfile\n",
      "_pyrsistent_version encodings           paramgrid           terminado\n",
      "_pytest             ensurepip           parser              termios\n",
      "_queue              entrypoints         parso               test\n",
      "_random             enum                past                test_data\n",
      "_sha1               errno               pathlib             test_pycosat\n",
      "_sha256             faulthandler        pdb                 testpath\n",
      "_sha3               fcntl               pexpect             tests\n",
      "_sha512             filecmp             pickle              textwrap\n",
      "_signal             fileinput           pickleshare         this\n",
      "_sitebuiltins       fnmatch             pickletools         threading\n",
      "_socket             formatter           pip                 time\n",
      "_sqlite3            fractions           pipes               timeit\n",
      "_sre                ftplib              pkg_resources       tkinter\n",
      "_ssl                functools           pkgutil             token\n",
      "_stat               future              platform            tokenize\n",
      "_string             fuzzywuzzy          plistlib            tornado\n",
      "_strptime           gc                  pluggy              tqdm\n",
      "_struct             genericpath         ply                 trace\n",
      "_symtable           getdist             poplib              traceback\n",
      "_sysconfigdata_i686_conda_cos6_linux_gnu getdist_tests       posix               tracemalloc\n",
      "_sysconfigdata_m_linux_x86_64-linux-gnu getopt              posixpath           traitlets\n",
      "_sysconfigdata_powerpc64le_conda_cos7_linux_gnu getpass             pprint              tty\n",
      "_sysconfigdata_x86_64_apple_darwin13_4_0 gettext             profile             turtle\n",
      "_sysconfigdata_x86_64_conda_cos6_linux_gnu glob                prometheus_client   turtledemo\n",
      "_testbuffer         grp                 prompt_toolkit      types\n",
      "_testcapi           gzip                pstats              typing\n",
      "_testimportmultiple hashlib             psutil              unicodedata\n",
      "_testmultiphase     healpy              ptr                 unittest\n",
      "_thread             heapq               pty                 urllib\n",
      "_threading_local    hmac                ptyprocess          urllib3\n",
      "_tkinter            html                pvectorc            uu\n",
      "_tracemalloc        http                pwd                 uuid\n",
      "_warnings           idlelib             py                  venv\n",
      "_weakref            idna                py_compile          warnings\n",
      "_weakrefset         imageio             pyclbr              wave\n",
      "_xxtestfuzz         imaplib             pycosat             wcwidth\n",
      "_yaml               imghdr              pycparser           weakref\n",
      "abc                 imp                 pydoc               webbrowser\n",
      "aifc                importlib           pydoc_data          webencodings\n",
      "antigravity         importlib_metadata  pyexpat             wget\n",
      "argparse            inspect             pygments            wheel\n",
      "array               io                  pylab               widgetsnbextension\n",
      "asn1crypto          ipaddress           pyparsing           wsgiref\n",
      "ast                 ipykernel           pyrsistent          xdrlib\n",
      "astropy             ipykernel_launcher  pytest              xml\n",
      "asynchat            ipython_genutils    pytest_arraydiff    xmlrpc\n",
      "asyncio             ipywidgets          pytest_doctestplus  xxlimited\n",
      "asyncore            itertools           pytest_openfiles    xxsubtype\n",
      "atexit              jedi                pytest_remotedata   yaml\n",
      "atomicwrites        jinja2              pytz                zipapp\n",
      "attr                joblib              pyximport           zipfile\n",
      "audioop             json                qtconsole           zipimport\n",
      "autoreload          jsonschema          queue               zipp\n",
      "backcall            jupyter             quopri              zlib\n",
      "backports           jupyter_client      random              zmq\n",
      "base64              jupyter_console     re                  \n",
      "\n",
      "Enter any module name to get more help.  Or, type \"modules spam\" to search\n",
      "for modules whose name or summary contain the string \"spam\".\n",
      "\n"
     ]
    }
   ],
   "source": [
    "help(\"modules\")"
   ]
  },
  {
   "cell_type": "code",
   "execution_count": 15,
   "metadata": {
    "hidden": true,
    "slideshow": {
     "slide_type": "slide"
    }
   },
   "outputs": [
    {
     "name": "stdout",
     "output_type": "stream",
     "text": [
      "3.1.0 1.16.4 1.3.0 3.2.1 0.24.2\n"
     ]
    }
   ],
   "source": [
    "import matplotlib\n",
    "import numpy\n",
    "import scipy\n",
    "import astropy\n",
    "import pandas\n",
    "print(matplotlib.__version__, \n",
    "      numpy.__version__,\n",
    "      scipy.__version__,\n",
    "      astropy.__version__,\n",
    "      pandas.__version__\n",
    "     )\n"
   ]
  },
  {
   "cell_type": "code",
   "execution_count": 1,
   "metadata": {
    "hidden": true,
    "slideshow": {
     "slide_type": "fragment"
    }
   },
   "outputs": [],
   "source": [
    "import os\n",
    "os.chdir(\"/home/cosmos/cobaya/code/CAMB\")\n",
    "cwd = os.getcwd() "
   ]
  },
  {
   "cell_type": "code",
   "execution_count": 2,
   "metadata": {
    "hidden": true,
    "slideshow": {
     "slide_type": "fragment"
    }
   },
   "outputs": [
    {
     "data": {
      "text/plain": [
       "'1.0.7'"
      ]
     },
     "execution_count": 2,
     "metadata": {},
     "output_type": "execute_result"
    }
   ],
   "source": [
    "import camb\n",
    "from classy import Class\n",
    "camb.__version__"
   ]
  },
  {
   "cell_type": "code",
   "execution_count": 36,
   "metadata": {
    "hidden": true,
    "slideshow": {
     "slide_type": "fragment"
    }
   },
   "outputs": [
    {
     "name": "stdout",
     "output_type": "stream",
     "text": [
      "{'tt': array([0.00000000e+00, 0.00000000e+00, 1.61178429e-10, ...,\n",
      "       4.90823291e-17, 4.90328869e-17, 4.89833253e-17]), 'pp': array([0.00000000e+00, 0.00000000e+00, 9.48231407e-09, ...,\n",
      "       5.30783528e-22, 5.29027165e-22, 5.27277202e-22]), 'tp': array([0.00000000e+00, 0.00000000e+00, 5.21007405e-10, ...,\n",
      "       1.71932106e-22, 1.71736639e-22, 1.71533201e-22]), 'ell': array([   0,    1,    2, ..., 1998, 1999, 2000])}\n"
     ]
    },
    {
     "ename": "AttributeError",
     "evalue": "module 'classy' has no attribute '__version__'",
     "output_type": "error",
     "traceback": [
      "\u001b[0;31m---------------------------------------------------------------------------\u001b[0m",
      "\u001b[0;31mAttributeError\u001b[0m                            Traceback (most recent call last)",
      "\u001b[0;32m<ipython-input-36-498877fb6727>\u001b[0m in \u001b[0;36m<module>\u001b[0;34m\u001b[0m\n\u001b[1;32m     25\u001b[0m \u001b[0mcosmo\u001b[0m\u001b[0;34m.\u001b[0m\u001b[0mempty\u001b[0m\u001b[0;34m(\u001b[0m\u001b[0;34m)\u001b[0m\u001b[0;34m\u001b[0m\u001b[0;34m\u001b[0m\u001b[0m\n\u001b[1;32m     26\u001b[0m \u001b[0;34m\u001b[0m\u001b[0m\n\u001b[0;32m---> 27\u001b[0;31m \u001b[0mclassy\u001b[0m\u001b[0;34m.\u001b[0m\u001b[0m__version__\u001b[0m\u001b[0;34m\u001b[0m\u001b[0;34m\u001b[0m\u001b[0m\n\u001b[0m",
      "\u001b[0;31mAttributeError\u001b[0m: module 'classy' has no attribute '__version__'"
     ]
    }
   ],
   "source": [
    "# Define your cosmology (what is not specified will be set to CLASS default parameters)\n",
    "params = {\n",
    "    'output': 'tCl lCl',\n",
    "    'l_max_scalars': 2000,\n",
    "    'lensing': 'yes',\n",
    "    'A_s': 2.3e-9,\n",
    "    'n_s': 0.9624, \n",
    "    'h': 0.6711,\n",
    "    'omega_b': 0.022068,\n",
    "    'omega_cdm': 0.12029}\n",
    "\n",
    "# Create an instance of the CLASS wrapper\n",
    "cosmo = Class()\n",
    "\n",
    "# Set the parameters to the cosmological code\n",
    "cosmo.set(params)\n",
    "cosmo.compute()\n",
    "# Access the lensed cl until l=2000\n",
    "cls = cosmo.lensed_cl(2000)\n",
    "\n",
    "# Print on screen to see the output\n",
    "print(cls)\n",
    "cosmo.struct_cleanup()\n",
    "\n",
    "cosmo.empty()\n",
    "\n",
    "#classy.__version__"
   ]
  }
 ],
 "metadata": {
  "celltoolbar": "Slideshow",
  "kernelspec": {
   "display_name": "Python 3",
   "language": "python",
   "name": "python3"
  },
  "language_info": {
   "codemirror_mode": {
    "name": "ipython",
    "version": 3
   },
   "file_extension": ".py",
   "mimetype": "text/x-python",
   "name": "python",
   "nbconvert_exporter": "python",
   "pygments_lexer": "ipython3",
   "version": "3.7.3"
  },
  "latex_envs": {
   "LaTeX_envs_menu_present": true,
   "autoclose": false,
   "autocomplete": true,
   "bibliofile": "biblio.bib",
   "cite_by": "apalike",
   "current_citInitial": 1,
   "eqLabelWithNumbers": true,
   "eqNumInitial": 1,
   "hotkeys": {
    "equation": "Ctrl-E",
    "itemize": "Ctrl-I"
   },
   "labels_anchors": false,
   "latex_user_defs": false,
   "report_style_numbering": false,
   "user_envs_cfg": false
  },
  "toc": {
   "base_numbering": 1,
   "nav_menu": {},
   "number_sections": true,
   "sideBar": true,
   "skip_h1_title": false,
   "title_cell": "Table of Contents",
   "title_sidebar": "Contents",
   "toc_cell": false,
   "toc_position": {},
   "toc_section_display": true,
   "toc_window_display": false
  }
 },
 "nbformat": 4,
 "nbformat_minor": 2
}
