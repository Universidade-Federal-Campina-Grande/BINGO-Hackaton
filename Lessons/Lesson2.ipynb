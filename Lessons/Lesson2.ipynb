{
 "cells": [
  {
   "cell_type": "markdown",
   "metadata": {
    "slideshow": {
     "slide_type": "slide"
    }
   },
   "source": [
    "# BINGO Hackaton - Lecture 02\n",
    "*Luciano Barosi*\n",
    "\n",
    "**BINGO Collaboration**"
   ]
  },
  {
   "cell_type": "markdown",
   "metadata": {
    "slideshow": {
     "slide_type": "slide"
    }
   },
   "source": [
    "## Python Basics"
   ]
  },
  {
   "cell_type": "markdown",
   "metadata": {
    "slideshow": {
     "slide_type": "fragment"
    }
   },
   "source": [
    "### PEP 8 - Python Style Guide\n",
    "A PEP is a Python Enhancement Proposal. PEP 8 (the eighth PEP) describes how to write Python code in a common style that will be easily readable by other programmers. If this seems unnecessary, consider that programmers spend much more time reading code than writing it.\n",
    "\n",
    "You can read PEP 8 here: https://www.python.org/dev/peps/pep-0008/"
   ]
  },
  {
   "cell_type": "markdown",
   "metadata": {
    "slideshow": {
     "slide_type": "slide"
    }
   },
   "source": [
    "### Naming Conventions\n",
    "Use descriptive names for your variables, functions, and classes. In Python, the following conventions are usually observed:\n",
    "\n",
    "Variables, functions, and function arguments are **lower-case**, with underscores to separate words.\n",
    "````python\n",
    "    index = 0\n",
    "   num_columns = 3\n",
    "   length_m = 7.2   # you can add units to a variable name\n",
    "````\n",
    "Constants can be written in **all-caps**.\n",
    "````python\n",
    "  CU_SPECIFIC_HEAT_CAPACITY = 376.812   # J/(kg K)\n",
    "````\n",
    "Class names are written with the **CapWords** convention:\n",
    "````python\n",
    "    class MyClass:\n",
    "````\n",
    "1. Use English names\n",
    "2. Functions should be verbs indicating **action**\n",
    "3. Module and package names are all lower-case"
   ]
  },
  {
   "cell_type": "markdown",
   "metadata": {
    "slideshow": {
     "slide_type": "slide"
    }
   },
   "source": [
    "### Comments\n",
    "Comments are helpful when they **clarify** code. They should be used sparingly. Why?\n",
    "\n",
    "If a code is so difficult to read that it needs a comment to explain it, it should probably be rewritten.\n",
    "Someone may update the code and forget to update a comment, making it misinformation.\n",
    "Comments tend to clutter the code and make it difficult to read."
   ]
  },
  {
   "cell_type": "markdown",
   "metadata": {
    "slideshow": {
     "slide_type": "fragment"
    }
   },
   "source": [
    "#### Don't do this!\n",
    "````python \n",
    "# this function does foo to the bar!\n",
    "def foo(bar):\n",
    "    bar = not bar   # bar is active low, so we invert the logic\n",
    "    if bar == True:   # bar can sometimes be true\n",
    "        print(\"The bar is True!\")   # success!\n",
    "    else:   # sometimes bar is not true\n",
    "        print(\"Argh!\")   # I hate it when the bar is not true!    \n",
    "````"
   ]
  },
  {
   "cell_type": "markdown",
   "metadata": {
    "slideshow": {
     "slide_type": "slide"
    }
   },
   "source": [
    "### DOC Strings\n",
    "````python\n",
    "def sphinx_example(variable):\n",
    "    \"\"\"This function does something.\n",
    "\n",
    "    :param variable: Some variable that the function uses.\n",
    "    :type variable: str. \n",
    "    :returns: int -- the return code. \n",
    "    \"\"\" \n",
    "    return 0\n",
    "````"
   ]
  },
  {
   "cell_type": "markdown",
   "metadata": {
    "slideshow": {
     "slide_type": "slide"
    }
   },
   "source": [
    "### General Advice"
   ]
  },
  {
   "cell_type": "markdown",
   "metadata": {
    "slideshow": {
     "slide_type": "fragment"
    }
   },
   "source": [
    "1. Avoid deeply nested logic\n",
    "2. Avoid deeply nested loops\n",
    "3. Think twice before using any loop\n",
    "4. Keep your functions short and with descriptive names\n",
    "5. Functions should do one thing."
   ]
  },
  {
   "cell_type": "markdown",
   "metadata": {
    "slideshow": {
     "slide_type": "slide"
    }
   },
   "source": [
    "### Exceptions\n",
    "Exceptions must derive from the BaseException class (user-defined exceptions should be derived from Exception). It is common to use one of the built-in exception subclasses. Common examples include:\n",
    "\n",
    "ImportError - raised when trying to import an unknown module.\n",
    "IndexError - raised when trying to access an invalid element in an array.\n",
    "KeyError - raised when trying to use an invalid key with a dictionary.\n",
    "NameError - raised when trying to use a variable that hasn't been defined.\n",
    "TypeError - raised when trying to use an object of the wrong type.\n",
    "ValueError - raised when an argument has the correct type but a bad value.\n",
    "OSError - base exception for problems with reading/writing a file (and other things).\n",
    "RuntimeError - catch-all class for errors while code is running.\n",
    "In general, you can use these built-in exceptions when there is one that suits the problem. For instance, you might raise a ValueError or TypeError when checking arguments to a function:"
   ]
  },
  {
   "cell_type": "code",
   "execution_count": 2,
   "metadata": {
    "slideshow": {
     "slide_type": "slide"
    }
   },
   "outputs": [
    {
     "ename": "ValueError",
     "evalue": "foobar argument 'value' should be > 0; you passed: -7",
     "output_type": "error",
     "traceback": [
      "\u001b[0;31m---------------------------------------------------------------------------\u001b[0m",
      "\u001b[0;31mValueError\u001b[0m                                Traceback (most recent call last)",
      "\u001b[0;32m<ipython-input-2-1ee6e93f280b>\u001b[0m in \u001b[0;36m<module>\u001b[0;34m\u001b[0m\n\u001b[1;32m      7\u001b[0m \u001b[0;31m# uncomment to test:\u001b[0m\u001b[0;34m\u001b[0m\u001b[0;34m\u001b[0m\u001b[0;34m\u001b[0m\u001b[0m\n\u001b[1;32m      8\u001b[0m \u001b[0;31m#foobar(2.7)\u001b[0m\u001b[0;34m\u001b[0m\u001b[0;34m\u001b[0m\u001b[0;34m\u001b[0m\u001b[0m\n\u001b[0;32m----> 9\u001b[0;31m \u001b[0mfoobar\u001b[0m\u001b[0;34m(\u001b[0m\u001b[0;34m-\u001b[0m\u001b[0;36m7\u001b[0m\u001b[0;34m)\u001b[0m\u001b[0;34m\u001b[0m\u001b[0;34m\u001b[0m\u001b[0m\n\u001b[0m",
      "\u001b[0;32m<ipython-input-2-1ee6e93f280b>\u001b[0m in \u001b[0;36mfoobar\u001b[0;34m(value)\u001b[0m\n\u001b[1;32m      3\u001b[0m         \u001b[0;32mraise\u001b[0m \u001b[0mTypeError\u001b[0m\u001b[0;34m(\u001b[0m\u001b[0;34m\"foobar requires and int!\"\u001b[0m\u001b[0;34m)\u001b[0m\u001b[0;34m\u001b[0m\u001b[0;34m\u001b[0m\u001b[0m\n\u001b[1;32m      4\u001b[0m     \u001b[0;32mif\u001b[0m \u001b[0mvalue\u001b[0m \u001b[0;34m<\u001b[0m \u001b[0;36m0\u001b[0m\u001b[0;34m:\u001b[0m\u001b[0;34m\u001b[0m\u001b[0;34m\u001b[0m\u001b[0m\n\u001b[0;32m----> 5\u001b[0;31m         \u001b[0;32mraise\u001b[0m \u001b[0mValueError\u001b[0m\u001b[0;34m(\u001b[0m\u001b[0;34m\"foobar argument 'value' should be > 0; you passed: %i\"\u001b[0m \u001b[0;34m%\u001b[0m \u001b[0mvalue\u001b[0m\u001b[0;34m)\u001b[0m\u001b[0;34m\u001b[0m\u001b[0;34m\u001b[0m\u001b[0m\n\u001b[0m\u001b[1;32m      6\u001b[0m \u001b[0;34m\u001b[0m\u001b[0m\n\u001b[1;32m      7\u001b[0m \u001b[0;31m# uncomment to test:\u001b[0m\u001b[0;34m\u001b[0m\u001b[0;34m\u001b[0m\u001b[0;34m\u001b[0m\u001b[0m\n",
      "\u001b[0;31mValueError\u001b[0m: foobar argument 'value' should be > 0; you passed: -7"
     ]
    }
   ],
   "source": [
    "def foobar(value):\n",
    "    if not isinstance(value, int):\n",
    "        raise TypeError(\"foobar requires and int!\")\n",
    "    if value < 0:\n",
    "        raise ValueError(\"foobar argument 'value' should be > 0; you passed: %i\" % value)\n",
    "    \n",
    "# uncomment to test:\n",
    "#foobar(2.7)\n",
    "foobar(-7)"
   ]
  },
  {
   "cell_type": "markdown",
   "metadata": {
    "slideshow": {
     "slide_type": "slide"
    }
   },
   "source": [
    "### Handling Exceptions\n"
   ]
  },
  {
   "cell_type": "code",
   "execution_count": 3,
   "metadata": {
    "slideshow": {
     "slide_type": "fragment"
    }
   },
   "outputs": [
    {
     "name": "stdout",
     "output_type": "stream",
     "text": [
      "Bar raised an exception!\n"
     ]
    }
   ],
   "source": [
    "# def foo():\n",
    "#    \"\"\"This foo actually foos.\"\"\"\n",
    "#    pass\n",
    "def foo():\n",
    "    raise RuntimeError(\"Oh no! Can't foo!\")\n",
    "def bar():\n",
    "    foo()\n",
    "def baz():\n",
    "    try:\n",
    "        bar()\n",
    "    except RuntimeError:\n",
    "        print(\"Bar raised an exception!\")\n",
    "    else:\n",
    "        print(\"No exception was raised??\")\n",
    "        \n",
    "baz()"
   ]
  },
  {
   "cell_type": "markdown",
   "metadata": {
    "slideshow": {
     "slide_type": "slide"
    }
   },
   "source": [
    "## Classes\n",
    "The question \"When should I use classes?\" is more difficult to answer than \"When should I use functions?\" (for which the answer is: almost always). Classes are generally used in Object-Oriented Programming (OOP). A full discussion of OOP is beyond the scope of this course, so we will just give some general guidance here.\n",
    "\n",
    "You should consider using classes when:\n",
    "\n",
    "1. You have several functions manipulating the same set of data.\n",
    "2. You find that you are passing the same arguments to several functions.\n",
    "3. You want parts of your code to be responsible for maintaining their own internal state.\n",
    "4. You want your code to have an easy-to-use interface that doesn't require understanding exactly what the code does."
   ]
  },
  {
   "cell_type": "code",
   "execution_count": 7,
   "metadata": {
    "slideshow": {
     "slide_type": "slide"
    }
   },
   "outputs": [
    {
     "name": "stdout",
     "output_type": "stream",
     "text": [
      "4.549985919605982\n",
      "[3.3758920266807357, 6.65333685806241, 3.776355045080538, 3.702335340686407, 5.2420103275198215]\n",
      "[3.3758920266807357, 3.776355045080538, 3.702335340686407, 5.2420103275198215, 6.65333685806241]\n"
     ]
    }
   ],
   "source": [
    "import random\n",
    "\n",
    "class DataSet:\n",
    "    def __init__(self, length, lower_bound=0, upper_bound=10, seed_value=None):\n",
    "        random.seed(seed_value)\n",
    "        self.data = [random.uniform(lower_bound, upper_bound) for i in range(length)]\n",
    "    \n",
    "    def shuffle(self):\n",
    "        random.shuffle(self.data)\n",
    "\n",
    "    def mean(self):\n",
    "        return sum(self.data)/len(self.data)\n",
    "\n",
    "    def display(self):\n",
    "        print(self.data)\n",
    "        \n",
    "    def analyze(self):\n",
    "        print(self.mean())    \n",
    "        self.display()\n",
    "        self.shuffle()\n",
    "        self.display()\n",
    "        \n",
    "a = DataSet(length=5)\n",
    "a.analyze()"
   ]
  },
  {
   "cell_type": "code",
   "execution_count": null,
   "metadata": {
    "slideshow": {
     "slide_type": "slide"
    }
   },
   "outputs": [],
   "source": [
    "class Foo:\n",
    "    def __init__(self, value):\n",
    "        self.value = value\n",
    "        \n",
    "    def square(self):\n",
    "        return self.value**2\n",
    "    \n",
    "    \n",
    "class Bar(Foo):   # Bar inherits from Foo\n",
    "    def __init__(self, value):\n",
    "        self.value = value\n",
    "        \n",
    "    def double(self):\n",
    "        return 2*self.value\n",
    "    \n",
    "    \n",
    "baz = Bar(9)\n",
    "print(baz.double())   # baz knows how to double because it is a Bar\n",
    "print(baz.square())   # baz inherited the ability to square from Foo"
   ]
  },
  {
   "cell_type": "markdown",
   "metadata": {
    "slideshow": {
     "slide_type": "slide"
    }
   },
   "source": [
    "### Dictionary"
   ]
  },
  {
   "cell_type": "code",
   "execution_count": 15,
   "metadata": {
    "slideshow": {
     "slide_type": "fragment"
    }
   },
   "outputs": [
    {
     "name": "stdout",
     "output_type": "stream",
     "text": [
      "Jack\n",
      "{'name': 'Jack', 'age': 27, 'address': 'Downtown'}\n",
      "{'age': 27, 'address': 'Downtown'}\n"
     ]
    }
   ],
   "source": [
    "my_dict = {'name':'Jack', 'age': 26}\n",
    "\n",
    "# Accessing\n",
    "print(my_dict['name'])\n",
    "# update value\n",
    "my_dict['age'] = 27\n",
    "# add item\n",
    "my_dict['address'] = 'Downtown'  \n",
    "print(my_dict)\n",
    "# delete item\n",
    "del my_dict['name']\n",
    "print(my_dict)"
   ]
  },
  {
   "cell_type": "markdown",
   "metadata": {
    "slideshow": {
     "slide_type": "slide"
    }
   },
   "source": [
    "### *ARGS and **KWARGS\n",
    "The special syntax, * and ** in function definitions is used to pass a variable number of arguments to a function. So the definition of the function would look like this:\n",
    "````python\n",
    "def foo(arg_1, arg_2, ..., *args, kwarg_1=kwval_1, kwarg_2=kwval_2, ..., **kwargs)\n",
    "````\n",
    "The single asterisk form (*) is used to pass a non-keyworded, variable-length argument list, and the double asterisk form (**) is used to pass a keyworded, variable-length argument list.\n",
    "\n",
    "Inside the function definition, *args are tuples and **kwargs are dictionaries, so you can access them as usual.\n",
    "\n",
    "The names args and kwargs are not mandatory, but they are the most commonly used."
   ]
  },
  {
   "cell_type": "code",
   "execution_count": 18,
   "metadata": {
    "slideshow": {
     "slide_type": "fragment"
    }
   },
   "outputs": [
    {
     "name": "stdout",
     "output_type": "stream",
     "text": [
      "First argument : Hello\n",
      "Next argument through *argv : Welcome\n",
      "Next argument through *argv : to\n",
      "Next argument through *argv : GeeksforGeeks\n"
     ]
    }
   ],
   "source": [
    "# Python program to illustrate  \n",
    "# *args with first extra argument \n",
    "def myFun(arg1, *argv): \n",
    "    print (\"First argument :\", arg1) \n",
    "    for arg in argv: \n",
    "        print(\"Next argument through *argv :\", arg) \n",
    "  \n",
    "myFun('Hello', 'Welcome', 'to', 'GeeksforGeeks') "
   ]
  },
  {
   "cell_type": "code",
   "execution_count": 19,
   "metadata": {
    "slideshow": {
     "slide_type": "slide"
    }
   },
   "outputs": [
    {
     "name": "stdout",
     "output_type": "stream",
     "text": [
      "\n",
      "Data type of argument: <class 'dict'>\n",
      "Firstname is Sita\n",
      "Lastname is Sharma\n",
      "Age is 22\n",
      "Phone is 1234567890\n",
      "\n",
      "Data type of argument: <class 'dict'>\n",
      "Firstname is John\n",
      "Lastname is Wood\n",
      "Email is johnwood@nomail.com\n",
      "Country is Wakanda\n",
      "Age is 25\n",
      "Phone is 9876543210\n"
     ]
    }
   ],
   "source": [
    "def intro(**data):\n",
    "    print(\"\\nData type of argument:\",type(data))\n",
    "    for key, value in data.items():\n",
    "        print(\"{} is {}\".format(key,value))\n",
    "intro(Firstname=\"Sita\", \n",
    "      Lastname=\"Sharma\", \n",
    "      Age=22, \n",
    "      Phone=1234567890)\n",
    "intro(Firstname=\"John\", \n",
    "      Lastname=\"Wood\", \n",
    "      Email=\"johnwood@nomail.com\", \n",
    "      Country=\"Wakanda\", \n",
    "      Age=25, \n",
    "      Phone=9876543210)"
   ]
  }
 ],
 "metadata": {
  "celltoolbar": "Slideshow",
  "kernelspec": {
   "display_name": "Python 3",
   "language": "python",
   "name": "python3"
  },
  "language_info": {
   "codemirror_mode": {
    "name": "ipython",
    "version": 3
   },
   "file_extension": ".py",
   "mimetype": "text/x-python",
   "name": "python",
   "nbconvert_exporter": "python",
   "pygments_lexer": "ipython3",
   "version": "3.7.3"
  },
  "latex_envs": {
   "LaTeX_envs_menu_present": true,
   "autoclose": false,
   "autocomplete": true,
   "bibliofile": "biblio.bib",
   "cite_by": "apalike",
   "current_citInitial": 1,
   "eqLabelWithNumbers": true,
   "eqNumInitial": 1,
   "hotkeys": {
    "equation": "Ctrl-E",
    "itemize": "Ctrl-I"
   },
   "labels_anchors": false,
   "latex_user_defs": false,
   "report_style_numbering": false,
   "user_envs_cfg": false
  },
  "toc": {
   "base_numbering": 1,
   "nav_menu": {},
   "number_sections": true,
   "sideBar": true,
   "skip_h1_title": false,
   "title_cell": "Table of Contents",
   "title_sidebar": "Contents",
   "toc_cell": false,
   "toc_position": {},
   "toc_section_display": true,
   "toc_window_display": false
  }
 },
 "nbformat": 4,
 "nbformat_minor": 2
}
