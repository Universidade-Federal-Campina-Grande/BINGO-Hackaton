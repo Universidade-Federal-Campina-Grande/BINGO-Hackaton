{
 "cells": [
  {
   "cell_type": "markdown",
   "metadata": {},
   "source": [
    "# BINGO Hackaton - Lecture 05\n",
    "\n",
    "**Luciano Barosi**\n",
    "\n",
    "*BINGO Collaboration*"
   ]
  },
  {
   "cell_type": "markdown",
   "metadata": {},
   "source": [
    "## Fast Fourier Transform and Applications"
   ]
  },
  {
   "cell_type": "code",
   "execution_count": null,
   "metadata": {
    "ExecuteTime": {
     "end_time": "2019-11-10T20:52:57.192465Z",
     "start_time": "2019-11-10T20:52:57.186174Z"
    }
   },
   "outputs": [],
   "source": [
    "# Make plots appear inline, set custom plotting style\n",
    "%matplotlib inline\n",
    "import matplotlib.pyplot as plt\n",
    "import numpy as np\n",
    "from scipy import fftpack"
   ]
  },
  {
   "cell_type": "code",
   "execution_count": null,
   "metadata": {
    "ExecuteTime": {
     "end_time": "2019-11-10T20:52:59.030856Z",
     "start_time": "2019-11-10T20:52:59.027735Z"
    }
   },
   "outputs": [],
   "source": [
    "# show result from all calculations of the cell\n",
    "from IPython.core.interactiveshell import InteractiveShell\n",
    "InteractiveShell.ast_node_interactivity = \"all\""
   ]
  },
  {
   "cell_type": "code",
   "execution_count": null,
   "metadata": {
    "ExecuteTime": {
     "end_time": "2019-11-10T20:53:00.426235Z",
     "start_time": "2019-11-10T20:53:00.154002Z"
    }
   },
   "outputs": [],
   "source": [
    "# Building an harmonic signal\n",
    "f = 10  # Frequency, in cycles per second, or Hertz\n",
    "f_s = 100  # Sampling rate, or number of measurements per second\n",
    "\n",
    "t = np.linspace(0, 2, 2 * f_s, endpoint=False)\n",
    "x = np.sin(f * 2 * np.pi * t)\n",
    "\n",
    "fig, ax = plt.subplots()\n",
    "ax.plot(t, x)\n",
    "ax.set_xlabel('Time [s]')\n",
    "ax.set_ylabel('Signal amplitude');"
   ]
  },
  {
   "cell_type": "code",
   "execution_count": null,
   "metadata": {
    "ExecuteTime": {
     "end_time": "2019-11-10T20:53:01.676794Z",
     "start_time": "2019-11-10T20:53:01.410572Z"
    }
   },
   "outputs": [],
   "source": [
    "from scipy import fftpack\n",
    "\n",
    "X = fftpack.fft(x)\n",
    "freqs = fftpack.fftfreq(len(x)) * f_s\n",
    "\n",
    "fig, ax = plt.subplots()\n",
    "\n",
    "ax.stem(freqs, np.abs(X), use_line_collection = True)\n",
    "ax.set_xlabel('Frequency in Hertz [Hz]')\n",
    "ax.set_ylabel('Frequency Domain (Spectrum) Magnitude')\n",
    "ax.set_xlim(-f_s / 2, f_s / 2)\n",
    "ax.set_ylim(-5, 110)"
   ]
  },
  {
   "cell_type": "markdown",
   "metadata": {},
   "source": [
    "We want to study signals and decompose them in their constituent frequencies."
   ]
  },
  {
   "cell_type": "code",
   "execution_count": null,
   "metadata": {},
   "outputs": [],
   "source": [
    "from IPython.display import Audio\n",
    "file = \"../DATA/Nightingale-sound.wav\"\n",
    "Audio(file)"
   ]
  },
  {
   "cell_type": "code",
   "execution_count": null,
   "metadata": {},
   "outputs": [],
   "source": [
    "from scipy.io import wavfile\n",
    "\n",
    "rate, audio = wavfile.read(file)\n",
    "print(rate)\n"
   ]
  },
  {
   "cell_type": "code",
   "execution_count": null,
   "metadata": {},
   "outputs": [],
   "source": [
    "N = audio.shape[0]\n",
    "L = N / rate\n",
    "\n",
    "print(f'Audio length: {L:.2f} seconds')\n",
    "\n",
    "f, ax = plt.subplots(figsize=(7.2, 2.4))\n",
    "ax.plot(np.arange(N) / rate, audio)\n",
    "ax.set_xlabel('Time [s]')\n",
    "ax.set_ylabel('Amplitude [unknown]');"
   ]
  },
  {
   "cell_type": "markdown",
   "metadata": {},
   "source": [
    "In order to understand better the signal we are going to construct a moving window of length 1024 samples, each one 100 samples apart. It is important that the size of the windows is a multiple of 2.\n",
    "\n",
    "The edges of the window may introduce artifacts in the signal. We are going to use a smooth window."
   ]
  },
  {
   "cell_type": "code",
   "execution_count": null,
   "metadata": {},
   "outputs": [],
   "source": [
    "# Code directly obtained from https://docs.scipy.org/doc/numpy/reference/generated/numpy.hanning.html\n",
    "size_w = 50 #size of the window\n",
    "size_s = 2048 # size of the sample\n",
    "window = np.hanning(size_w)\n",
    "\n",
    "A = fftpack.fft(window, size_s) / (size_w/2)\n",
    "# Center frequencies\n",
    "mag = np.abs(fftpack.fftshift(A))\n",
    "freq = np.linspace(-0.5, 0.5, len(A))\n",
    "# Proper care with logs\n",
    "with np.errstate(divide='ignore', invalid='ignore'):\n",
    "    response = 20 * np.log10(mag)\n",
    "# Clipping signal frequencies\n",
    "#response = np.clip(response, -100, 100)\n",
    "\n",
    "fig, ax = plt.subplots(ncols = 2, figsize = (18,6))\n",
    "ax[0].plot(window)\n",
    "ax[0].set_title(\"Hann window\")\n",
    "ax[0].set_ylabel(\"Amplitude\")\n",
    "ax[0].set_xlabel(\"Sample\")\n",
    "\n",
    "ax[1].plot(freq, response)\n",
    "ax[1].set_title(\"Frequency response of the Hann window\")\n",
    "ax[1].set_ylabel(\"Magnitude [dB]\")\n",
    "ax[1].set_xlabel(\"Normalized frequency [cycles per sample]\")\n",
    "\n",
    "plt.show();"
   ]
  },
  {
   "cell_type": "code",
   "execution_count": null,
   "metadata": {},
   "outputs": [],
   "source": [
    "from skimage import util\n",
    "M = 1024\n",
    "\n",
    "slices = util.view_as_windows(audio, window_shape = (M,), step = 100)\n",
    "print(f'Audio shape: {audio.shape}, Sliced audio shape: {slices.shape}')"
   ]
  },
  {
   "cell_type": "code",
   "execution_count": null,
   "metadata": {},
   "outputs": [],
   "source": [
    "# Construct a Hanning window\n",
    "win = np.hanning(M + 1)[:-1]\n",
    "slices = slices * win\n",
    "# Transpose\n",
    "slices = slices.T\n",
    "print('Shape of `slices`:', slices.shape)\n",
    "# DFT for each slice\n",
    "spectrum = np.fft.fft(slices, axis=0)[:M // 2 + 1:-1]\n",
    "spectrum = np.abs(spectrum)\n"
   ]
  },
  {
   "cell_type": "code",
   "execution_count": null,
   "metadata": {},
   "outputs": [],
   "source": [
    "f, ax = plt.subplots(figsize=(7.2, 2.4))\n",
    "\n",
    "S = np.abs(spectrum)\n",
    "S = 20 * np.log10(S / np.max(S))\n",
    "\n",
    "ax.imshow(S, origin='lower', cmap='viridis',\n",
    "          extent=(0, L, 0, rate / 2 / 1000))\n",
    "ax.axis('tight')\n",
    "ax.set_ylabel('Frequency [kHz]')\n",
    "ax.set_xlabel('Time [s]');"
   ]
  },
  {
   "cell_type": "code",
   "execution_count": null,
   "metadata": {},
   "outputs": [],
   "source": [
    "# There is a package for that. This is a spectogram.\n",
    "from scipy import signal\n",
    "\n",
    "freqs, times, Sx = signal.spectrogram(audio, fs=rate, window='hanning',\n",
    "                                      nperseg=4*1024, noverlap=M - 1000,\n",
    "                                      detrend=False, scaling='spectrum')\n",
    "\n",
    "f, ax = plt.subplots(figsize=(16, 6))\n",
    "# pcolormesh is an useful function: given a tuple (x, y, z) it plots a density map.\n",
    "ax.pcolormesh(times, freqs / 1000, 10 * np.log10(Sx), cmap='viridis')\n",
    "ax.set_ylabel('Frequency [kHz]')\n",
    "ax.set_xlabel('Time [s]')\n",
    "plt.show();"
   ]
  },
  {
   "cell_type": "code",
   "execution_count": null,
   "metadata": {},
   "outputs": [],
   "source": []
  },
  {
   "cell_type": "markdown",
   "metadata": {},
   "source": [
    "### Noisy Signal"
   ]
  },
  {
   "cell_type": "code",
   "execution_count": null,
   "metadata": {},
   "outputs": [],
   "source": [
    "samp_freq = 50                             # Sampling frequency\n",
    "time_step = 1/samp_freq                    # Sampling period\n",
    "N = 1024                                    # Total number of samples\n",
    "n = np.arange(0,N-1)                       # Samples\n",
    "time_vec = time_step*(n)                          # Sampled times\n",
    "\n",
    "period = 2\n",
    "seed = 1000\n",
    "signal = np.cos(2*np.pi*time_vec/period) + 0.1 * np.random.randn(time_vec.size)  # Noisy signal\n"
   ]
  },
  {
   "cell_type": "code",
   "execution_count": null,
   "metadata": {},
   "outputs": [],
   "source": [
    "# Plot the signal\n",
    "plt.figure(figsize=(16, 6))\n",
    "plt.plot(time_vec, signal, label='Original signal')\n",
    "plt.show();"
   ]
  },
  {
   "cell_type": "code",
   "execution_count": null,
   "metadata": {},
   "outputs": [],
   "source": [
    "# The FFT of the signal\n",
    "sig_fft = fftpack.fft(signal)\n",
    "\n",
    "# And the power (sig_fft is of complex dtype)\n",
    "power = np.abs(sig_fft)\n",
    "\n",
    "# The corresponding frequencies\n",
    "sample_freq = fftpack.fftfreq(signal.size, d=time_step)\n",
    "\n",
    "# Plot the FFT power\n",
    "plt.figure(figsize=(10, 5))\n",
    "plt.plot(sample_freq, power)\n",
    "plt.xlabel('Frequency [Hz]')\n",
    "plt.ylabel('plower')\n",
    "\n",
    "# Find the peak frequency: we can focus on only the positive frequencies\n",
    "pos_mask = np.where(sample_freq > 0)\n",
    "freqs = sample_freq[pos_mask]\n",
    "peak_freq = freqs[power[pos_mask].argmax()]\n",
    "\n",
    "# An inner plot to show the peak frequency\n",
    "axes = plt.axes([0.55, 0.3, 0.3, 0.5])\n",
    "plt.title('Peak frequency')\n",
    "plt.plot(sample_freq, power)\n",
    "plt.xlim(0.8*peak_freq, 1.2*peak_freq)\n",
    "plt.setp(axes, yticks=[])\n",
    "\n",
    "# Check that it does indeed correspond to the frequency that we generate\n",
    "# the signal with\n",
    "print(f\"{peak_freq:.2f}, {(1/period):.2f} \")\n",
    "plt.show();\n"
   ]
  },
  {
   "cell_type": "code",
   "execution_count": null,
   "metadata": {},
   "outputs": [],
   "source": [
    "# Filtering high frequencies brutally\n",
    "high_freq_fft = sig_fft.copy()\n",
    "high_freq_fft[np.abs(sample_freq) > peak_freq] = 0\n",
    "filtered_sig = fftpack.ifft(high_freq_fft)\n",
    "\n",
    "plt.figure(figsize=(10, 5))\n",
    "plt.plot(time_vec, signal, label='Original signal')\n",
    "plt.plot(time_vec, filtered_sig, linewidth=3, label='Filtered signal')\n",
    "plt.xlabel('Time [s]')\n",
    "plt.ylabel('Amplitude')\n",
    "\n",
    "plt.legend(loc='best')\n",
    "plt.show();\n"
   ]
  },
  {
   "cell_type": "markdown",
   "metadata": {},
   "source": [
    "### A few concepts"
   ]
  },
  {
   "cell_type": "markdown",
   "metadata": {},
   "source": [
    "#### Power Spectral Density"
   ]
  },
  {
   "cell_type": "markdown",
   "metadata": {},
   "source": [
    "##### Fourier Transform"
   ]
  },
  {
   "cell_type": "markdown",
   "metadata": {},
   "source": [
    "$$ H(f) = \\int_{-\\infty}^{\\infty} \\; h(t) \\; e^{-2\\pi i f t}dt $$\n",
    "$$ h(f) = \\int_{-\\infty}^{\\infty} \\; H(f) \\; e^{-2\\pi i f t}df $$"
   ]
  },
  {
   "cell_type": "markdown",
   "metadata": {},
   "source": [
    "$$\\mathrm{PSD}(f) \\equiv \\| H(f) \\|^2 + \\| H(-f) \\|^2 $$"
   ]
  },
  {
   "cell_type": "markdown",
   "metadata": {},
   "source": [
    "the **power spectral density** defined above measures the amount of power contained in the frequency interval between $f$ and $f+df$."
   ]
  },
  {
   "cell_type": "markdown",
   "metadata": {},
   "source": [
    "#### Convolution"
   ]
  },
  {
   "cell_type": "markdown",
   "metadata": {},
   "source": [
    "$$ (a \\star b)(t) \\equiv \\int_{-\\infty}^\\infty \\; a(t') b(t-t') dt' $$\n",
    "$$ h = a\\star b \\Rightarrow H(f) = A(f) B(f) $$ "
   ]
  },
  {
   "cell_type": "markdown",
   "metadata": {},
   "source": [
    "#### Nyquist Sampling Theorem and Aliasing"
   ]
  },
  {
   "cell_type": "markdown",
   "metadata": {},
   "source": [
    "For discrete time we have a **discrete fourier transform**, and since this is a very time consuming operation, the algorith for calculating became known, which is the **fast fourier transform**."
   ]
  },
  {
   "cell_type": "markdown",
   "metadata": {},
   "source": [
    "$$H_k = \\sum_{j=0}^{N-1} h_j e^{-\\frac{2 \\pi i j k}{N}}$$\n",
    "$$h_j = \\frac{1}{N} \\sum_{j=0}^{N-1} H_k e^{-\\frac{2 \\pi i j k}{N}}$$"
   ]
  },
  {
   "cell_type": "markdown",
   "metadata": {},
   "source": [
    "- A function h[t] of a discrete time variable is called **band limited** if  its Fourier transform is zero for frequencies higher than a certain maximum frequency $|H(f) = 0|$ if $|f|>f_c$.  This frequency is called **Nyquist critical frequency**. \n",
    "- **Nyquist theorem** states that, if h(t) is band limited with critical frequency $f_c$, there is a resolution limit in t space, $t_c = 1/(2 f_c$ below which h(t) appears smooth and h(t) can be exactly reconstructed from evenly sampled data.\n",
    "- The reconstruction is done via the form known as **Whittaker-Shannon** sinc-shifting formula.\n",
    "- The discrete analog of Power Spectral Density is:\n",
    "$$ \\mathrm{PSD}(f_k) = (\\Delta t)^2 (|H_k|^2 + |H_{N-k}|^2) $$"
   ]
  },
  {
   "cell_type": "markdown",
   "metadata": {},
   "source": [
    "**Reference:**\n",
    "1. Elegant Scipy (https://www.oreilly.com/library/view/elegant-scipy/9781491922927/ch04.html)\n",
    "2. https://github.com/AllenDowney/ThinkDSP/tree/master/code\n",
    "3. https://longbaonguyen.github.io/courses/dft/discrete_fourier.html"
   ]
  },
  {
   "cell_type": "markdown",
   "metadata": {},
   "source": [
    "**Note:** Most of the material follows closely the first reference."
   ]
  },
  {
   "cell_type": "markdown",
   "metadata": {},
   "source": [
    "## Aliasing"
   ]
  },
  {
   "cell_type": "code",
   "execution_count": null,
   "metadata": {
    "ExecuteTime": {
     "end_time": "2019-11-09T21:37:02.917490Z",
     "start_time": "2019-11-09T21:37:02.332161Z"
    }
   },
   "outputs": [],
   "source": [
    "# Code based in https://gist.github.com/stephenHartzell/dsp\n",
    "# Improvement in visualization\n",
    "samp_freq = 10                             # Sampling frequency\n",
    "samp_perd = 1/samp_freq                    # Sampling period\n",
    "N = 32                                     # Total number of samples\n",
    "n = np.arange(0,N-1)                       # Samples\n",
    "t = samp_perd*(n)                          # Sampled times\n",
    "t_fine = np.arange(0,np.max(t), 0.01)      # Finely sampled times\n",
    "y = np.cos(2*np.pi*t)                      # Discrete 1 Hz signal\n",
    "yp = np.cos(18*np.pi*t)                    # Discrete 9 Hz signal\n",
    "\n",
    "\n",
    "fig, ax = plt.subplots(ncols = 2, figsize = (16,6))\n",
    "# Plot the 1 Hz signal and its discrete counter-part\n",
    "markerline, stemlines, baseline  = ax[0].stem(t, y, use_line_collection=True, linefmt='red')\n",
    "markerline.set_markerfacecolor('violet')\n",
    "ax[0].plot(t_fine, np.cos(2*np.pi*t_fine), alpha = 0.5, linestyle = \"dashed\")   \n",
    "ax[0].set_title('Sampled 1 Hz Signal with Fs = {}'.format(samp_freq))\n",
    "# Plot the 9 Hz signal and its discrete counter-part\n",
    "markerline, stemlines, baseline  = ax[1].stem(t, yp, use_line_collection=True, linefmt='red')\n",
    "ax[1].plot(t_fine,np.cos(18*np.pi*t_fine))\n",
    "markerline.set_markerfacecolor('violet')\n",
    "ax[1].set_title('Sampled 9 Hz Signal with Fs = {}'.format(samp_freq))\n",
    "plt.show();"
   ]
  },
  {
   "cell_type": "markdown",
   "metadata": {
    "ExecuteTime": {
     "end_time": "2019-11-09T21:41:11.388474Z",
     "start_time": "2019-11-09T21:41:10.816398Z"
    }
   },
   "source": [
    "### Fitting Periodic Data\n",
    "code from Jake VanderPlas, in http://astroML.github.com"
   ]
  },
  {
   "cell_type": "code",
   "execution_count": null,
   "metadata": {
    "ExecuteTime": {
     "end_time": "2019-11-10T17:43:42.197814Z",
     "start_time": "2019-11-10T17:43:40.732674Z"
    }
   },
   "outputs": [],
   "source": [
    "from astroML.datasets import fetch_rrlyrae_templates"
   ]
  },
  {
   "cell_type": "code",
   "execution_count": null,
   "metadata": {
    "ExecuteTime": {
     "end_time": "2019-11-09T21:53:47.216791Z",
     "start_time": "2019-11-09T21:53:42.426558Z"
    }
   },
   "outputs": [],
   "source": [
    "templates =  fetch_rrlyrae_templates()\n",
    "x, y = templates[\"115r\"].T"
   ]
  },
  {
   "cell_type": "code",
   "execution_count": null,
   "metadata": {
    "ExecuteTime": {
     "end_time": "2019-11-09T22:00:22.135756Z",
     "start_time": "2019-11-09T22:00:22.125855Z"
    }
   },
   "outputs": [],
   "source": [
    "# Pick up two the 3 frequencies to reconstruct the signal\n",
    "k = 3\n",
    "y_fft = fftpack.fft(y)\n",
    "# zero higher frequencies\n",
    "y_fft[k+1:] = 0 \n",
    "# get the inverse\n",
    "y_fit = fftpack.ifft(y_fft).real"
   ]
  },
  {
   "cell_type": "code",
   "execution_count": null,
   "metadata": {
    "ExecuteTime": {
     "end_time": "2019-11-09T21:54:29.925064Z",
     "start_time": "2019-11-09T21:54:29.641607Z"
    }
   },
   "outputs": [],
   "source": [
    "fig = plt.figure()\n",
    "# plotting two periods each. That is what concatenate does\n",
    "plt.plot(np.concatenate([x, 1 + x]),\n",
    "            np.concatenate([y, y]), '--k', lw=2)\n",
    "plt.plot(np.concatenate([x, 1 + x]),\n",
    "            np.concatenate([y_fit, y_fit]), color='gray')\n",
    "plt.show()"
   ]
  }
 ],
 "metadata": {
  "kernelspec": {
   "display_name": "Python 3",
   "language": "python",
   "name": "python3"
  },
  "language_info": {
   "codemirror_mode": {
    "name": "ipython",
    "version": 3
   },
   "file_extension": ".py",
   "mimetype": "text/x-python",
   "name": "python",
   "nbconvert_exporter": "python",
   "pygments_lexer": "ipython3",
   "version": "3.7.3"
  },
  "latex_envs": {
   "LaTeX_envs_menu_present": true,
   "autoclose": false,
   "autocomplete": true,
   "bibliofile": "biblio.bib",
   "cite_by": "apalike",
   "current_citInitial": 1,
   "eqLabelWithNumbers": true,
   "eqNumInitial": 1,
   "hotkeys": {
    "equation": "Ctrl-E",
    "itemize": "Ctrl-I"
   },
   "labels_anchors": false,
   "latex_user_defs": false,
   "report_style_numbering": false,
   "user_envs_cfg": false
  },
  "varInspector": {
   "cols": {
    "lenName": 16,
    "lenType": 16,
    "lenVar": 40
   },
   "kernels_config": {
    "python": {
     "delete_cmd_postfix": "",
     "delete_cmd_prefix": "del ",
     "library": "var_list.py",
     "varRefreshCmd": "print(var_dic_list())"
    },
    "r": {
     "delete_cmd_postfix": ") ",
     "delete_cmd_prefix": "rm(",
     "library": "var_list.r",
     "varRefreshCmd": "cat(var_dic_list()) "
    }
   },
   "types_to_exclude": [
    "module",
    "function",
    "builtin_function_or_method",
    "instance",
    "_Feature"
   ],
   "window_display": false
  }
 },
 "nbformat": 4,
 "nbformat_minor": 2
}
