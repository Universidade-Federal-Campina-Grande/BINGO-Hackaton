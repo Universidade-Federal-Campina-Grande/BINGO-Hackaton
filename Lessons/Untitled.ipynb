{
 "cells": [
  {
   "cell_type": "code",
   "execution_count": 1,
   "metadata": {},
   "outputs": [],
   "source": [
    "import sys\n",
    "import os\n",
    "import numpy as np\n",
    "import inspect\n",
    "os.getcwd()\n",
    "os.chdir('../cosmos')\n",
    "\n",
    "import lessons.lessons1 as lesson1"
   ]
  },
  {
   "cell_type": "code",
   "execution_count": 2,
   "metadata": {},
   "outputs": [
    {
     "data": {
      "text/plain": [
       "10"
      ]
     },
     "execution_count": 2,
     "metadata": {},
     "output_type": "execute_result"
    }
   ],
   "source": [
    "examples = lesson1.Lesson1\n",
    "lesson1.countExamples(lesson1.Lesson1)"
   ]
  },
  {
   "cell_type": "code",
   "execution_count": 3,
   "metadata": {},
   "outputs": [
    {
     "name": "stdout",
     "output_type": "stream",
     "text": [
      "\n",
      "        Example1:\n",
      "        Create a **10x10** array with random values\n",
      "        find the minimum and maximum values\n",
      "        \n"
     ]
    }
   ],
   "source": [
    "print(examples.example1.__doc__)"
   ]
  },
  {
   "cell_type": "code",
   "execution_count": 4,
   "metadata": {},
   "outputs": [
    {
     "name": "stdout",
     "output_type": "stream",
     "text": [
      "Zmin= 0.95844  Zmax= 0.00921\n",
      "[[0.012 0.042 0.957 0.282 0.568 0.339 0.763 0.147 0.152 0.958]\n",
      " [0.574 0.492 0.62  0.933 0.197 0.552 0.791 0.552 0.585 0.589]\n",
      " [0.891 0.453 0.463 0.645 0.517 0.215 0.756 0.071 0.039 0.625]\n",
      " [0.009 0.211 0.28  0.112 0.94  0.859 0.465 0.634 0.558 0.694]\n",
      " [0.354 0.529 0.902 0.257 0.124 0.897 0.36  0.388 0.877 0.379]\n",
      " [0.137 0.702 0.42  0.785 0.287 0.718 0.819 0.17  0.751 0.306]\n",
      " [0.173 0.366 0.765 0.805 0.764 0.048 0.266 0.905 0.204 0.285]\n",
      " [0.028 0.037 0.88  0.567 0.28  0.587 0.214 0.728 0.575 0.938]\n",
      " [0.512 0.318 0.926 0.037 0.331 0.6   0.926 0.948 0.162 0.115]\n",
      " [0.027 0.676 0.676 0.045 0.459 0.434 0.014 0.267 0.601 0.071]]\n"
     ]
    }
   ],
   "source": [
    "examples.example1()"
   ]
  },
  {
   "cell_type": "code",
   "execution_count": 5,
   "metadata": {},
   "outputs": [
    {
     "name": "stdout",
     "output_type": "stream",
     "text": [
      "    def example1():\n",
      "        \"\"\"\n",
      "        Example1:\n",
      "        Create a **10x10** array with random values\n",
      "        find the minimum and maximum values\n",
      "        \"\"\"\n",
      "        Z = np.random.random((10,10))\n",
      "        Zmin, Zmax = Z.max(), Z.min()\n",
      "        print(\"Zmin=\", \"{:2.5f}\".format(Zmin),\" Zmax=\",\"{:2.5f}\".format(Zmax))\n",
      "        print(Z.round(3))\n",
      "        pass\n",
      "\n"
     ]
    }
   ],
   "source": [
    "lesson1.viewCode(examples.example1)"
   ]
  },
  {
   "cell_type": "code",
   "execution_count": null,
   "metadata": {},
   "outputs": [],
   "source": []
  }
 ],
 "metadata": {
  "kernelspec": {
   "display_name": "Python 3",
   "language": "python",
   "name": "python3"
  },
  "language_info": {
   "codemirror_mode": {
    "name": "ipython",
    "version": 3
   },
   "file_extension": ".py",
   "mimetype": "text/x-python",
   "name": "python",
   "nbconvert_exporter": "python",
   "pygments_lexer": "ipython3",
   "version": "3.7.3"
  }
 },
 "nbformat": 4,
 "nbformat_minor": 2
}
