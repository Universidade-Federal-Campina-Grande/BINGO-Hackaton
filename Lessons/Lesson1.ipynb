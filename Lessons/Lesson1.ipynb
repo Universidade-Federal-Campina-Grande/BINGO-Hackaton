{
 "cells": [
  {
   "cell_type": "markdown",
   "metadata": {},
   "source": [
    "# Coding for Cosmology\n",
    "**Luciano Barosi**"
   ]
  },
  {
   "cell_type": "markdown",
   "metadata": {},
   "source": [
    "## Checking your environment"
   ]
  },
  {
   "cell_type": "code",
   "execution_count": 1,
   "metadata": {},
   "outputs": [
    {
     "name": "stdout",
     "output_type": "stream",
     "text": [
      "cosmos\n",
      "Linux e91aeae28691 4.15.0-66-generic #75-Ubuntu SMP Tue Oct 1 05:24:09 UTC 2019 x86_64 x86_64 x86_64 GNU/Linux\n",
      "Python 3.7.3\n",
      "gcc (Ubuntu 7.4.0-1ubuntu1~18.04.1) 7.4.0\n",
      "Copyright (C) 2017 Free Software Foundation, Inc.\n",
      "This is free software; see the source for copying conditions.  There is NO\n",
      "warranty; not even for MERCHANTABILITY or FITNESS FOR A PARTICULAR PURPOSE.\n",
      "\n",
      "GNU Fortran (Ubuntu 7.4.0-1ubuntu1~18.04.1) 7.4.0\n",
      "Copyright (C) 2017 Free Software Foundation, Inc.\n",
      "This is free software; see the source for copying conditions.  There is NO\n",
      "warranty; not even for MERCHANTABILITY or FITNESS FOR A PARTICULAR PURPOSE.\n",
      "\n",
      "HYDRA build details:\n",
      "    Version:                                 3.2.1\n",
      "    Release Date:                            Fri Nov 10 20:21:01 CST 2017\n",
      "libopenblas-dev:\n",
      "  Installed: 0.2.20+ds-4\n",
      "  Candidate: 0.2.20+ds-4\n",
      "  Version table:\n",
      " *** 0.2.20+ds-4 100\n",
      "        100 /var/lib/dpkg/status\n",
      "liblapack-dev:\n",
      "  Installed: 3.7.1-4ubuntu1\n",
      "  Candidate: 3.7.1-4ubuntu1\n",
      "  Version table:\n",
      " *** 3.7.1-4ubuntu1 100\n",
      "        100 /var/lib/dpkg/status\n"
     ]
    }
   ],
   "source": [
    "!whoami\n",
    "!uname -a\n",
    "!python --version\n",
    "!gcc --version\n",
    "!gfortran --version\n",
    "!mpirun --version |head -n 3\n",
    "!apt-cache policy libopenblas-dev\n",
    "!apt-cache policy liblapack-dev"
   ]
  },
  {
   "cell_type": "code",
   "execution_count": 2,
   "metadata": {},
   "outputs": [
    {
     "name": "stdout",
     "output_type": "stream",
     "text": [
      "Filesystem     1K-blocks      Used Available Use% Mounted on\r\n",
      "overlay        190679980  47627028 133297204  27% /\r\n",
      "tmpfs              65536         0     65536   0% /dev\r\n",
      "tmpfs            4049232         0   4049232   0% /sys/fs/cgroup\r\n",
      "/dev/sdb3      190679980  47627028 133297204  27% /etc/hosts\r\n",
      "shm                65536         0     65536   0% /dev/shm\r\n",
      "/dev/sdc1      480072432 264121940 191541100  58% /home/cosmos/code\r\n",
      "tmpfs            4049232         0   4049232   0% /proc/asound\r\n",
      "tmpfs            4049232         0   4049232   0% /proc/acpi\r\n",
      "tmpfs            4049232         0   4049232   0% /proc/scsi\r\n",
      "tmpfs            4049232         0   4049232   0% /sys/firmware\r\n"
     ]
    }
   ],
   "source": [
    "!df"
   ]
  },
  {
   "cell_type": "code",
   "execution_count": 3,
   "metadata": {},
   "outputs": [
    {
     "name": "stdout",
     "output_type": "stream",
     "text": [
      "# conda environments:\r\n",
      "#\r\n",
      "base                  *  /opt/conda\r\n",
      "cosmos2                  /opt/conda/envs/cosmos2\r\n",
      "cosmos3                  /opt/conda/envs/cosmos3\r\n",
      "\r\n"
     ]
    }
   ],
   "source": [
    "!conda env list"
   ]
  },
  {
   "cell_type": "code",
   "execution_count": 3,
   "metadata": {},
   "outputs": [
    {
     "name": "stdout",
     "output_type": "stream",
     "text": [
      "\n",
      "Please wait a moment while I gather a list of all available modules...\n",
      "\n"
     ]
    },
    {
     "name": "stderr",
     "output_type": "stream",
     "text": [
      "/opt/conda/envs/cosmos3/lib/python3.7/site-packages/IPython/kernel/__init__.py:13: ShimWarning: The `IPython.kernel` package has been deprecated since IPython 4.0.You should import from ipykernel or jupyter_client instead.\n",
      "  \"You should import from ipykernel or jupyter_client instead.\", ShimWarning)\n",
      "WARNING: AstropyDeprecationWarning: astropy.utils.compat.futures is now deprecated - use concurrent.futures instead [astropy.utils.compat.futures]\n",
      "/opt/conda/envs/cosmos3/lib/python3.7/site-packages/sklearn/externals/joblib/__init__.py:15: DeprecationWarning: sklearn.externals.joblib is deprecated in 0.21 and will be removed in 0.23. Please import this functionality directly from joblib, which can be installed with: pip install joblib. If this warning is raised when loading pickled models, you may need to re-serialize those models with scikit-learn 0.21+.\n",
      "  warnings.warn(msg, category=DeprecationWarning)\n"
     ]
    },
    {
     "name": "stdout",
     "output_type": "stream",
     "text": [
      "Cython              backports           joblib              readline\n",
      "IPython             base64              json                reprlib\n",
      "OpenSSL             bdb                 jsonschema          requests\n",
      "PIL                 binascii            jupyter             resource\n",
      "PyQt5               binhex              jupyter_client      rise\n",
      "Tests               bisect              jupyter_console     rlcompleter\n",
      "__future__          bleach              jupyter_contrib_core rmagic\n",
      "_abc                builtins            jupyter_contrib_nbextensions runpy\n",
      "_ast                bz2                 jupyter_core        sched\n",
      "_asyncio            cProfile            jupyter_highlight_selected_word scipy\n",
      "_bisect             calendar            jupyter_nbextensions_configurator secrets\n",
      "_blake2             camb                jupyterthemes       select\n",
      "_bootlocale         camb_tests          keyword             selectors\n",
      "_bz2                certifi             kiwisolver          send2trash\n",
      "_cffi_backend       cffi                kombine             setuptools\n",
      "_codecs             cgi                 latex_envs          shelve\n",
      "_codecs_cn          cgitb               lesscpy             shlex\n",
      "_codecs_hk          chardet             lib2to3             shutil\n",
      "_codecs_iso2022     chunk               libfuturize         signal\n",
      "_codecs_jp          classy              libpasteurize       sip\n",
      "_codecs_kr          cmath               linecache           sipconfig\n",
      "_codecs_tw          cmd                 locale              sipdistutils\n",
      "_collections        cobaya              logging             site\n",
      "_collections_abc    code                lxml                six\n",
      "_compat_pickle      codecs              lzma                sklearn\n",
      "_compression        codeop              macpath             smtpd\n",
      "_contextvars        collections         mailbox             smtplib\n",
      "_crypt              colorsys            mailcap             sncosmo\n",
      "_csv                colossus            markupsafe          sndhdr\n",
      "_ctypes             compileall          marshal             snowballstemmer\n",
      "_ctypes_test        concurrent          math                socket\n",
      "_curses             configparser        matplotlib          socketserver\n",
      "_curses_panel       contextlib          mimetypes           socks\n",
      "_datetime           contextvars         mistune             sockshandler\n",
      "_decimal            copy                mmap                sphinx\n",
      "_dummy_thread       copyreg             modulefinder        sphinx_astropy\n",
      "_elementtree        cosmoHammer         more_itertools      sphinx_automodapi\n",
      "_functools          cosmolopy           mpi4py              sphinx_gallery\n",
      "_hashlib            crypt               mpmath              spwd\n",
      "_heapq              cryptography        multiprocessing     sqlite3\n",
      "_imp                csv                 nb_conda_kernels    sre_compile\n",
      "_io                 ctypes              nbconvert           sre_constants\n",
      "_json               curses              nbformat            sre_parse\n",
      "_locale             cycler              netrc               ssl\n",
      "_lsprof             cython              nis                 stat\n",
      "_lzma               cythonmagic         nntplib             statistics\n",
      "_markupbase         dataclasses         nose                storemagic\n",
      "_md5                datetime            notebook            string\n",
      "_multibytecodec     dateutil            ntpath              stringprep\n",
      "_multiprocessing    dbm                 nturl2path          struct\n",
      "_opcode             decimal             numbers             subprocess\n",
      "_operator           decorator           numpy               sunau\n",
      "_osx_support        defusedxml          numpydoc            symbol\n",
      "_pickle             difflib             olefile             sympy\n",
      "_posixsubprocess    dis                 opcode              sympyprinting\n",
      "_py_abc             distutils           operator            symtable\n",
      "_pydecimal          doctest             optparse            sys\n",
      "_pyio               docutils            os                  sysconfig\n",
      "_pyrsistent_version dummy_threading     ossaudiodev         syslog\n",
      "_pytest             easy_install        packaging           tabnanny\n",
      "_queue              email               pandas              tarfile\n",
      "_random             emcee               pandocfilters       telnetlib\n",
      "_sha1               encodings           paramgrid           tempfile\n",
      "_sha256             ensurepip           parser              terminado\n",
      "_sha3               entrypoints         parso               termios\n",
      "_sha512             enum                past                test\n",
      "_signal             errno               pathlib             testpath\n",
      "_sitebuiltins       examples            pdb                 tests\n",
      "_socket             extinction          pexpect             textwrap\n",
      "_sqlite3            faulthandler        pickle              this\n",
      "_sre                fcntl               pickleshare         threading\n",
      "_ssl                filecmp             pickletools         time\n",
      "_stat               fileinput           pip                 timeit\n",
      "_string             fnmatch             pipes               tkinter\n",
      "_strptime           formatter           pkg_resources       token\n",
      "_struct             fractions           pkgutil             tokenize\n",
      "_symtable           ftplib              platform            tornado\n",
      "_sysconfigdata_aarch64_conda_cos7_linux_gnu functools           plistlib            trace\n",
      "_sysconfigdata_i686_conda_cos6_linux_gnu future              pluggy              traceback\n",
      "_sysconfigdata_m_linux_x86_64-linux-gnu fuzzywuzzy          ply                 tracemalloc\n",
      "_sysconfigdata_powerpc64le_conda_cos7_linux_gnu gc                  poplib              traitlets\n",
      "_sysconfigdata_x86_64_apple_darwin13_4_0 genericpath         posix               tty\n",
      "_sysconfigdata_x86_64_conda_cos6_linux_gnu getdist             posixpath           turtle\n",
      "_testbuffer         getdist_tests       pprint              turtledemo\n",
      "_testcapi           getopt              profile             types\n",
      "_testimportmultiple getpass             prometheus_client   typing\n",
      "_testmultiphase     gettext             prompt_toolkit      unicodedata\n",
      "_thread             glob                pstats              unittest\n",
      "_threading_local    grp                 psutil              urllib\n",
      "_tkinter            gzip                ptr                 urllib3\n",
      "_tracemalloc        hashlib             pty                 uu\n",
      "_warnings           healpy              ptyprocess          uuid\n",
      "_weakref            heapq               pvectorc            venv\n",
      "_weakrefset         hmac                pwd                 warnings\n",
      "_xxtestfuzz         html                py                  wave\n",
      "_yaml               http                py_compile          wcwidth\n",
      "abc                 idlelib             pyclbr              weakref\n",
      "aifc                idna                pycparser           webbrowser\n",
      "alabaster           imageio             pydoc               webencodings\n",
      "antigravity         imagesize           pydoc_data          wget\n",
      "argparse            imaplib             pyexpat             wheel\n",
      "array               imghdr              pygments            widgetsnbextension\n",
      "asn1crypto          iminuit             pylab               wsgiref\n",
      "ast                 imp                 pyparsing           xdrlib\n",
      "astroML             importlib           pyrsistent          xml\n",
      "astropy             importlib_metadata  pytest              xmlrpc\n",
      "astropy_sphinx_theme inspect             pytest_arraydiff    xxlimited\n",
      "asynchat            io                  pytest_doctestplus  xxsubtype\n",
      "asyncio             ipaddress           pytest_openfiles    yaml\n",
      "asyncore            ipykernel           pytest_remotedata   zipapp\n",
      "atexit              ipykernel_launcher  pytz                zipfile\n",
      "atomicwrites        ipython_genutils    pyximport           zipimport\n",
      "attr                ipywidgets          qtconsole           zipp\n",
      "audioop             isympy              queue               zlib\n",
      "autoreload          itertools           quopri              zmq\n",
      "babel               jedi                random              \n",
      "backcall            jinja2              re                  \n",
      "\n",
      "Enter any module name to get more help.  Or, type \"modules spam\" to search\n",
      "for modules whose name or summary contain the string \"spam\".\n",
      "\n"
     ]
    },
    {
     "name": "stderr",
     "output_type": "stream",
     "text": [
      "/opt/conda/envs/cosmos3/lib/python3.7/pkgutil.py:107: VisibleDeprecationWarning: zmq.eventloop.minitornado is deprecated in pyzmq 14.0 and will be removed.\n",
      "    Install tornado itself to use zmq with the tornado IOLoop.\n",
      "    \n",
      "  yield from walk_packages(path, info.name+'.', onerror)\n"
     ]
    }
   ],
   "source": [
    "help(\"modules\")"
   ]
  },
  {
   "cell_type": "code",
   "execution_count": 5,
   "metadata": {},
   "outputs": [
    {
     "name": "stdout",
     "output_type": "stream",
     "text": [
      "/opt/conda/envs/cosmos3/bin/python\r\n"
     ]
    }
   ],
   "source": [
    "!which python"
   ]
  },
  {
   "cell_type": "code",
   "execution_count": 4,
   "metadata": {},
   "outputs": [
    {
     "name": "stdout",
     "output_type": "stream",
     "text": [
      "3.1.1 1.17.0 1.3.1 3.2.1 0.25.0\n"
     ]
    }
   ],
   "source": [
    "import matplotlib\n",
    "import numpy\n",
    "import scipy\n",
    "import astropy\n",
    "import pandas\n",
    "print(matplotlib.__version__, \n",
    "      numpy.__version__,\n",
    "      scipy.__version__,\n",
    "      astropy.__version__,\n",
    "      pandas.__version__\n",
    "     )"
   ]
  },
  {
   "cell_type": "code",
   "execution_count": 9,
   "metadata": {},
   "outputs": [
    {
     "name": "stdout",
     "output_type": "stream",
     "text": [
      "/opt/conda/envs/cosmos3/lib/python3.7/site-packages/camb\n"
     ]
    }
   ],
   "source": [
    "import os\n",
    "import camb\n",
    "print( os.path.dirname(camb.__file__) )"
   ]
  },
  {
   "cell_type": "code",
   "execution_count": 11,
   "metadata": {},
   "outputs": [
    {
     "name": "stdout",
     "output_type": "stream",
     "text": [
      "/opt/conda/envs/cosmos3/lib/python3.7/site-packages/cobaya\n"
     ]
    }
   ],
   "source": [
    "import cobaya\n",
    "print( os.path.dirname(cobaya.__file__) )"
   ]
  },
  {
   "cell_type": "code",
   "execution_count": 23,
   "metadata": {},
   "outputs": [],
   "source": [
    "import healpy\n"
   ]
  },
  {
   "cell_type": "code",
   "execution_count": null,
   "metadata": {},
   "outputs": [],
   "source": []
  }
 ],
 "metadata": {
  "kernelspec": {
   "display_name": "Python 3",
   "language": "python",
   "name": "python3"
  },
  "language_info": {
   "codemirror_mode": {
    "name": "ipython",
    "version": 3
   },
   "file_extension": ".py",
   "mimetype": "text/x-python",
   "name": "python",
   "nbconvert_exporter": "python",
   "pygments_lexer": "ipython3",
   "version": "3.7.3"
  }
 },
 "nbformat": 4,
 "nbformat_minor": 2
}
