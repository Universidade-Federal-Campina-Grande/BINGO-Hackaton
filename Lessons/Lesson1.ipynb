{
 "cells": [
  {
   "cell_type": "markdown",
   "metadata": {},
   "source": [
    "# Coding for Cosmology\n",
    "**Luciano Barosi**"
   ]
  },
  {
   "cell_type": "markdown",
   "metadata": {},
   "source": [
    "## Checking your environment"
   ]
  },
  {
   "cell_type": "code",
   "execution_count": 1,
   "metadata": {},
   "outputs": [
    {
     "name": "stdout",
     "output_type": "stream",
     "text": [
      "cosmos\n",
      "Linux b2494cdcc8c9 4.15.0-58-generic #64-Ubuntu SMP Tue Aug 6 11:12:41 UTC 2019 x86_64 x86_64 x86_64 GNU/Linux\n",
      "Python 3.7.3\n",
      "gcc (Ubuntu 7.4.0-1ubuntu1~18.04.1) 7.4.0\n",
      "Copyright (C) 2017 Free Software Foundation, Inc.\n",
      "This is free software; see the source for copying conditions.  There is NO\n",
      "warranty; not even for MERCHANTABILITY or FITNESS FOR A PARTICULAR PURPOSE.\n",
      "\n",
      "GNU Fortran (Ubuntu 7.4.0-1ubuntu1~18.04.1) 7.4.0\n",
      "Copyright (C) 2017 Free Software Foundation, Inc.\n",
      "This is free software; see the source for copying conditions.  There is NO\n",
      "warranty; not even for MERCHANTABILITY or FITNESS FOR A PARTICULAR PURPOSE.\n",
      "\n",
      "HYDRA build details:\n",
      "    Version:                                 3.2.1\n",
      "    Release Date:                            Fri Nov 10 20:21:01 CST 2017\n",
      "libopenblas-dev:\n",
      "  Installed: 0.2.20+ds-4\n",
      "  Candidate: 0.2.20+ds-4\n",
      "  Version table:\n",
      " *** 0.2.20+ds-4 100\n",
      "        100 /var/lib/dpkg/status\n",
      "liblapack-dev:\n",
      "  Installed: 3.7.1-4ubuntu1\n",
      "  Candidate: 3.7.1-4ubuntu1\n",
      "  Version table:\n",
      " *** 3.7.1-4ubuntu1 100\n",
      "        100 /var/lib/dpkg/status\n"
     ]
    }
   ],
   "source": [
    "!whoami\n",
    "!uname -a\n",
    "!python --version\n",
    "!gcc --version\n",
    "!gfortran --version\n",
    "!mpirun --version |head -n 3\n",
    "!apt-cache policy libopenblas-dev\n",
    "!apt-cache policy liblapack-dev"
   ]
  },
  {
   "cell_type": "code",
   "execution_count": 2,
   "metadata": {},
   "outputs": [
    {
     "name": "stdout",
     "output_type": "stream",
     "text": [
      "Filesystem     1K-blocks      Used Available Use% Mounted on\r\n",
      "overlay        190679980  47378344 133545888  27% /\r\n",
      "tmpfs              65536         0     65536   0% /dev\r\n",
      "tmpfs            4049224         0   4049224   0% /sys/fs/cgroup\r\n",
      "/dev/sdb3      190679980  47378344 133545888  27% /etc/hosts\r\n",
      "shm                65536         0     65536   0% /dev/shm\r\n",
      "/dev/sdc1      480072432 263438112 192224928  58% /home/cosmos/code\r\n",
      "tmpfs            4049224         0   4049224   0% /proc/asound\r\n",
      "tmpfs            4049224         0   4049224   0% /proc/acpi\r\n",
      "tmpfs            4049224         0   4049224   0% /proc/scsi\r\n",
      "tmpfs            4049224         0   4049224   0% /sys/firmware\r\n"
     ]
    }
   ],
   "source": [
    "!df"
   ]
  },
  {
   "cell_type": "code",
   "execution_count": 3,
   "metadata": {},
   "outputs": [
    {
     "name": "stdout",
     "output_type": "stream",
     "text": [
      "# conda environments:\r\n",
      "#\r\n",
      "base                  *  /opt/conda\r\n",
      "cosmos2                  /opt/conda/envs/cosmos2\r\n",
      "cosmos3                  /opt/conda/envs/cosmos3\r\n",
      "\r\n"
     ]
    }
   ],
   "source": [
    "!conda env list"
   ]
  },
  {
   "cell_type": "code",
   "execution_count": 4,
   "metadata": {},
   "outputs": [
    {
     "name": "stdout",
     "output_type": "stream",
     "text": [
      "\n",
      "Please wait a moment while I gather a list of all available modules...\n",
      "\n"
     ]
    },
    {
     "name": "stderr",
     "output_type": "stream",
     "text": [
      "/opt/conda/envs/cosmos3/lib/python3.7/site-packages/IPython/kernel/__init__.py:13: ShimWarning: The `IPython.kernel` package has been deprecated since IPython 4.0.You should import from ipykernel or jupyter_client instead.\n",
      "  \"You should import from ipykernel or jupyter_client instead.\", ShimWarning)\n",
      "WARNING: AstropyDeprecationWarning: astropy.utils.compat.futures is now deprecated - use concurrent.futures instead [astropy.utils.compat.futures]\n",
      "/opt/conda/envs/cosmos3/lib/python3.7/site-packages/sklearn/externals/joblib/__init__.py:15: DeprecationWarning: sklearn.externals.joblib is deprecated in 0.21 and will be removed in 0.23. Please import this functionality directly from joblib, which can be installed with: pip install joblib. If this warning is raised when loading pickled models, you may need to re-serialize those models with scikit-learn 0.21+.\n",
      "  warnings.warn(msg, category=DeprecationWarning)\n"
     ]
    },
    {
     "name": "stdout",
     "output_type": "stream",
     "text": [
      "Cython              backports           joblib              re\n",
      "IPython             base64              json                readline\n",
      "OpenSSL             bdb                 jsonschema          reprlib\n",
      "PIL                 binascii            jupyter             requests\n",
      "PyQt5               binhex              jupyter_client      resource\n",
      "Tests               bisect              jupyter_console     rise\n",
      "__future__          bleach              jupyter_contrib_core rlcompleter\n",
      "_abc                builtins            jupyter_contrib_nbextensions rmagic\n",
      "_ast                bz2                 jupyter_core        runpy\n",
      "_asyncio            cProfile            jupyter_highlight_selected_word sched\n",
      "_bisect             calendar            jupyter_nbextensions_configurator scipy\n",
      "_blake2             camb                jupyterthemes       secrets\n",
      "_bootlocale         camb_tests          keyword             select\n",
      "_bz2                certifi             kiwisolver          selectors\n",
      "_cffi_backend       cffi                kombine             send2trash\n",
      "_codecs             cgi                 latex_envs          setuptools\n",
      "_codecs_cn          cgitb               lesscpy             shelve\n",
      "_codecs_hk          chardet             lessons             shlex\n",
      "_codecs_iso2022     chunk               lib2to3             shutil\n",
      "_codecs_jp          classy              libfuturize         signal\n",
      "_codecs_kr          cmath               libpasteurize       sip\n",
      "_codecs_tw          cmd                 linecache           sipconfig\n",
      "_collections        cobaya              locale              sipdistutils\n",
      "_collections_abc    code                logging             site\n",
      "_compat_pickle      codecs              lxml                six\n",
      "_compression        codeop              lzma                sklearn\n",
      "_contextvars        collections         macpath             smtpd\n",
      "_crypt              colorsys            mailbox             smtplib\n",
      "_csv                colossus            mailcap             sncosmo\n",
      "_ctypes             compileall          markupsafe          sndhdr\n",
      "_ctypes_test        concurrent          marshal             snowballstemmer\n",
      "_curses             configparser        math                socket\n",
      "_curses_panel       contextlib          matplotlib          socketserver\n",
      "_datetime           contextvars         mimetypes           socks\n",
      "_decimal            copy                mistune             sockshandler\n",
      "_dummy_thread       copyreg             mmap                sphinx\n",
      "_elementtree        cosmoHammer         modulefinder        sphinx_astropy\n",
      "_functools          cosmolopy           more_itertools      sphinx_automodapi\n",
      "_hashlib            crypt               mpi4py              sphinx_gallery\n",
      "_heapq              cryptography        mpmath              spwd\n",
      "_imp                csv                 multiprocessing     sqlite3\n",
      "_io                 ctypes              nb_conda_kernels    sre_compile\n",
      "_json               curses              nbconvert           sre_constants\n",
      "_locale             cycler              nbformat            sre_parse\n",
      "_lsprof             cython              netrc               ssl\n",
      "_lzma               cythonmagic         nis                 stat\n",
      "_markupbase         dataclasses         nntplib             statistics\n",
      "_md5                datetime            nose                storemagic\n",
      "_multibytecodec     dateutil            notebook            string\n",
      "_multiprocessing    dbm                 ntpath              stringprep\n",
      "_opcode             decimal             nturl2path          struct\n",
      "_operator           decorator           numbers             subprocess\n",
      "_osx_support        defusedxml          numpy               sunau\n",
      "_pickle             difflib             numpydoc            symbol\n",
      "_posixsubprocess    dis                 olefile             sympy\n",
      "_py_abc             distutils           opcode              sympyprinting\n",
      "_pydecimal          doctest             operator            symtable\n",
      "_pyio               docutils            optparse            sys\n",
      "_pyrsistent_version dummy_threading     os                  sysconfig\n",
      "_pytest             easy_install        ossaudiodev         syslog\n",
      "_queue              email               packaging           tabnanny\n",
      "_random             emcee               pandas              tarfile\n",
      "_sha1               encodings           pandocfilters       telnetlib\n",
      "_sha256             ensurepip           paramgrid           tempfile\n",
      "_sha3               entrypoints         parser              terminado\n",
      "_sha512             enum                parso               termios\n",
      "_signal             errno               past                test\n",
      "_sitebuiltins       examples            pathlib             testpath\n",
      "_socket             extinction          pdb                 tests\n",
      "_sqlite3            faulthandler        pexpect             textwrap\n",
      "_sre                fcntl               pickle              this\n",
      "_ssl                filecmp             pickleshare         threading\n",
      "_stat               fileinput           pickletools         time\n",
      "_string             fnmatch             pip                 timeit\n",
      "_strptime           formatter           pipes               tkinter\n",
      "_struct             fractions           pkg_resources       token\n",
      "_symtable           ftplib              pkgutil             tokenize\n",
      "_sysconfigdata_aarch64_conda_cos7_linux_gnu functools           platform            tornado\n",
      "_sysconfigdata_i686_conda_cos6_linux_gnu future              plistlib            trace\n",
      "_sysconfigdata_m_linux_x86_64-linux-gnu fuzzywuzzy          pluggy              traceback\n",
      "_sysconfigdata_powerpc64le_conda_cos7_linux_gnu gc                  ply                 tracemalloc\n",
      "_sysconfigdata_x86_64_apple_darwin13_4_0 genericpath         poplib              traitlets\n",
      "_sysconfigdata_x86_64_conda_cos6_linux_gnu getdist             posix               tty\n",
      "_testbuffer         getdist_tests       posixpath           turtle\n",
      "_testcapi           getopt              pprint              turtledemo\n",
      "_testimportmultiple getpass             profile             types\n",
      "_testmultiphase     gettext             prometheus_client   typing\n",
      "_thread             glob                prompt_toolkit      unicodedata\n",
      "_threading_local    grp                 pstats              unittest\n",
      "_tkinter            gzip                psutil              urllib\n",
      "_tracemalloc        hashlib             ptr                 urllib3\n",
      "_warnings           healpy              pty                 uu\n",
      "_weakref            heapq               ptyprocess          uuid\n",
      "_weakrefset         hmac                pvectorc            venv\n",
      "_xxtestfuzz         html                pwd                 warnings\n",
      "_yaml               http                py                  wave\n",
      "abc                 idlelib             py_compile          wcwidth\n",
      "aifc                idna                pyclbr              weakref\n",
      "alabaster           imageio             pycparser           webbrowser\n",
      "antigravity         imagesize           pydoc               webencodings\n",
      "argparse            imaplib             pydoc_data          wget\n",
      "array               imghdr              pyexpat             wheel\n",
      "asn1crypto          iminuit             pygments            widgetsnbextension\n",
      "ast                 imp                 pylab               wsgiref\n",
      "astroML             importlib           pyparsing           xdrlib\n",
      "astropy             importlib_metadata  pyrsistent          xml\n",
      "astropy_sphinx_theme inspect             pytest              xmlrpc\n",
      "asynchat            io                  pytest_arraydiff    xxlimited\n",
      "asyncio             ipaddress           pytest_doctestplus  xxsubtype\n",
      "asyncore            ipykernel           pytest_openfiles    yaml\n",
      "atexit              ipykernel_launcher  pytest_remotedata   zipapp\n",
      "atomicwrites        ipython_genutils    pytz                zipfile\n",
      "attr                ipywidgets          pyximport           zipimport\n",
      "audioop             isympy              qtconsole           zipp\n",
      "autoreload          itertools           queue               zlib\n",
      "babel               jedi                quopri              zmq\n",
      "backcall            jinja2              random              \n",
      "\n",
      "Enter any module name to get more help.  Or, type \"modules spam\" to search\n",
      "for modules whose name or summary contain the string \"spam\".\n",
      "\n"
     ]
    },
    {
     "name": "stderr",
     "output_type": "stream",
     "text": [
      "/opt/conda/envs/cosmos3/lib/python3.7/pkgutil.py:107: VisibleDeprecationWarning: zmq.eventloop.minitornado is deprecated in pyzmq 14.0 and will be removed.\n",
      "    Install tornado itself to use zmq with the tornado IOLoop.\n",
      "    \n",
      "  yield from walk_packages(path, info.name+'.', onerror)\n"
     ]
    }
   ],
   "source": [
    "help(\"modules\")"
   ]
  },
  {
   "cell_type": "code",
   "execution_count": 5,
   "metadata": {},
   "outputs": [
    {
     "name": "stdout",
     "output_type": "stream",
     "text": [
      "/opt/conda/envs/cosmos3/bin/python\r\n"
     ]
    }
   ],
   "source": [
    "!which python"
   ]
  },
  {
   "cell_type": "code",
   "execution_count": 6,
   "metadata": {},
   "outputs": [
    {
     "name": "stdout",
     "output_type": "stream",
     "text": [
      "3.1.1 1.17.0 1.3.1 3.2.1 0.25.0\n"
     ]
    }
   ],
   "source": [
    "import matplotlib\n",
    "import numpy\n",
    "import scipy\n",
    "import astropy\n",
    "import pandas\n",
    "print(matplotlib.__version__, \n",
    "      numpy.__version__,\n",
    "      scipy.__version__,\n",
    "      astropy.__version__,\n",
    "      pandas.__version__\n",
    "     )"
   ]
  },
  {
   "cell_type": "code",
   "execution_count": 9,
   "metadata": {},
   "outputs": [
    {
     "name": "stdout",
     "output_type": "stream",
     "text": [
      "/opt/conda/envs/cosmos3/lib/python3.7/site-packages/camb\n"
     ]
    }
   ],
   "source": [
    "import os\n",
    "import camb\n",
    "print( os.path.dirname(camb.__file__) )"
   ]
  },
  {
   "cell_type": "code",
   "execution_count": 11,
   "metadata": {},
   "outputs": [
    {
     "name": "stdout",
     "output_type": "stream",
     "text": [
      "/opt/conda/envs/cosmos3/lib/python3.7/site-packages/cobaya\n"
     ]
    }
   ],
   "source": [
    "import cobaya\n",
    "print( os.path.dirname(cobaya.__file__) )"
   ]
  },
  {
   "cell_type": "code",
   "execution_count": 23,
   "metadata": {},
   "outputs": [],
   "source": [
    "import healpy\n"
   ]
  },
  {
   "cell_type": "code",
   "execution_count": null,
   "metadata": {},
   "outputs": [],
   "source": []
  }
 ],
 "metadata": {
  "kernelspec": {
   "display_name": "Python 3",
   "language": "python",
   "name": "python3"
  },
  "language_info": {
   "codemirror_mode": {
    "name": "ipython",
    "version": 3
   },
   "file_extension": ".py",
   "mimetype": "text/x-python",
   "name": "python",
   "nbconvert_exporter": "python",
   "pygments_lexer": "ipython3",
   "version": "3.7.3"
  }
 },
 "nbformat": 4,
 "nbformat_minor": 2
}
