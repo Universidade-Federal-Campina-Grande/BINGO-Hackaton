{
 "cells": [
  {
   "cell_type": "markdown",
   "metadata": {},
   "source": [
    "# BINGO Hackaton - Lecture 03\n",
    "*Luciano Barosi*\n",
    "\n",
    "**BINGO Collaboration**"
   ]
  },
  {
   "cell_type": "code",
   "execution_count": 1,
   "metadata": {},
   "outputs": [],
   "source": [
    "import os\n",
    "import sys\n",
    "sys.path.append('/home/cosmos/code/cosmos/lessons/')"
   ]
  },
  {
   "cell_type": "code",
   "execution_count": 2,
   "metadata": {},
   "outputs": [],
   "source": [
    "import lessons"
   ]
  },
  {
   "cell_type": "code",
   "execution_count": 3,
   "metadata": {},
   "outputs": [],
   "source": [
    "exerc = lessons.Lesson1()"
   ]
  },
  {
   "cell_type": "code",
   "execution_count": 4,
   "metadata": {},
   "outputs": [
    {
     "name": "stdout",
     "output_type": "stream",
     "text": [
      "    def example1(self, **args):\n",
      "        \"\"\"\n",
      "        Example 1:\n",
      "        Create a **10x10** array with random values\n",
      "        find the minimum and maximum values\n",
      "        print the values with 5 decimals\n",
      "        print the array with 3 decimals\n",
      "        :param **args: np.array 2D.\n",
      "        \"\"\"\n",
      "        if len(args)!=0:\n",
      "            Z = args\n",
      "        else:\n",
      "            Z = np.random.random((10,10))\n",
      "        print(\"NUMPY Example1 - running\\n\")\n",
      "        Zmin, Zmax = Z.max(), Z.min()\n",
      "        print(\"Zmin=\", \"{:2.5f}\".format(Zmin),\" Zmax=\",\"{:2.5f}\".format(Zmax))\n",
      "        print(Z.round(3))\n",
      "        return\n",
      "\n",
      "    def example2(self, **args):\n",
      "        \"\"\"\n",
      "        Example 2:\n",
      "        How to add a border (filled with 0's) around an existing array?\n",
      "\n",
      "        :param **args: np.array 2D.\n",
      "        \"\"\"\n",
      "        if len(args)!=0:\n",
      "            Z = args\n",
      "        else:\n",
      "            Z = np.ones((5,5))\n",
      "        print(\"NUMPY Example2 - running\\n\")\n",
      "        Z = np.pad(Z, pad_width=1, mode='constant', constant_values=0)\n",
      "        print(Z)\n",
      "        return\n",
      "\n",
      "    def example3(self):\n",
      "        \"\"\"\n",
      "        Example 3:\n",
      "        Create a 8x8 matrix and fill it with a checkerboard pattern\n",
      "        \"\"\"\n",
      "        print(\"NUMPY Example3 - running\\n\")\n",
      "        Z = np.zeros((8,8),dtype=int)\n",
      "        Z[1::2,::2] = 1\n",
      "        Z[::2,1::2] = 1\n",
      "        print(Z)\n",
      "        return\n",
      "\n",
      "    def example4(self, **args):\n",
      "        \"\"\"\n",
      "        Example 4:\n",
      "        Normalization of matrix\n",
      "\n",
      "        :param **args: np.array 2D.\n",
      "        \"\"\"\n",
      "        if len(args)!=0:\n",
      "            Z = args\n",
      "        else:\n",
      "            Z = np.random.random((5,5))\n",
      "        print(\"NUMPY Example4 - running\\n\")\n",
      "        Z = (Z - np.mean(Z)) / (np.std(Z))\n",
      "        print(Z)\n",
      "        return\n",
      "\n",
      "    def example5(self, **args):\n",
      "        \"\"\"\n",
      "        Example 5:\n",
      "        Consider a matrix representing cartesian coordinates,\n",
      "        convert them to polar coordinates. Data in ROW\n",
      "\n",
      "        :param **args: np.array 2D.\n",
      "        \"\"\"\n",
      "        if len(args)!=0:\n",
      "            Z = args\n",
      "        else:\n",
      "            Z = np.random.random((10,2))\n",
      "        print(\"NUMPY Example5 - running\\n\")\n",
      "        X,Y = Z[:,0], Z[:,1]\n",
      "        R = np.sqrt(X**2+Y**2)\n",
      "        T = np.arctan2(Y,X)\n",
      "        print(R)\n",
      "        print(T)\n",
      "        return\n",
      "\n",
      "    def example6(self, **args):\n",
      "        \"\"\"\n",
      "        Example 6:\n",
      "        Consider a vector with cartesian coordinates in ROWS.\n",
      "        find point by point distances\n",
      "\n",
      "        :param **args: np.array 2D.\n",
      "        \"\"\"\n",
      "        if len(args)!=0:\n",
      "            Z = args\n",
      "        else:\n",
      "            Z = np.random.random((10,2))\n",
      "        print(\"NUMPY Example6 - running\\n\")\n",
      "        X,Y = np.atleast_2d(Z[:,0], Z[:,1])\n",
      "        D = np.sqrt( (X-X.T)**2 + (Y-Y.T)**2)\n",
      "        print(D)\n",
      "        return\n",
      "\n",
      "    def example7(self, *args):\n",
      "        \"\"\"\n",
      "        Example 7:\n",
      "        How to compute averages using a sliding window over an array\n",
      "        # Author: Jaime Fernández del Río\n",
      "\n",
      "        :param **args: np.array 1D.\n",
      "        \"\"\"\n",
      "        if len(args)!=0:\n",
      "            Z = args\n",
      "        else:\n",
      "            Z = np.arange(20)\n",
      "        print(\"NUMPY Example7 - running\\n\")\n",
      "        def moving_average(a, n=3) :\n",
      "            ret = np.cumsum(a, dtype=float)\n",
      "            ret[n:] = ret[n:] - ret[:-n]\n",
      "            return ret[n - 1:] / n\n",
      "\n",
      "        print(moving_average(Z, n=3))\n",
      "        return\n",
      "\n",
      "    def example8(self, **args):\n",
      "        \"\"\"\n",
      "        Example 8:\n",
      "        Compute the eivenvalues of a matrix\n",
      "        Compute the eigenvector of a matrix\n",
      "        Show the result is correct\n",
      "\n",
      "        :param **args: np.array 2D.\n",
      "        \"\"\"\n",
      "        # Compute the Eigenvalues\n",
      "        print(\"NUMPY Example8 - running\\n\")\n",
      "        if len(args)!=0:\n",
      "            Z = args\n",
      "        else:\n",
      "            Z = np.random.random((20,20))\n",
      "\n",
      "        return\n",
      "\n",
      "    def example9(self, **args):\n",
      "        \"\"\"\n",
      "        Example 9:\n",
      "        Do a least square fit for supernova Data\n",
      "        and find the Hubble constant.\n",
      "\n",
      "        :param **args: np.array 2D.\n",
      "        \"\"\"\n",
      "        print(\"NUMPY Example9 - running\\n\")\n",
      "\n",
      "        return\n",
      "\n",
      "    def example10(self, **args):\n",
      "        \"\"\"\n",
      "        Example 10:\n",
      "        Implement Matropolis-Hasting algorithm for\n",
      "        gaussian likelyhood\n",
      "\n",
      "        :param **args: np.array 2D.\n",
      "        \"\"\"\n",
      "        print(\"NUMPY Example10 - running\\n\")\n",
      "        return\n",
      "\n"
     ]
    }
   ],
   "source": [
    "exerc.viewCode()"
   ]
  },
  {
   "cell_type": "code",
   "execution_count": 6,
   "metadata": {},
   "outputs": [],
   "source": [
    "import inspect"
   ]
  },
  {
   "cell_type": "code",
   "execution_count": 30,
   "metadata": {},
   "outputs": [
    {
     "name": "stdout",
     "output_type": "stream",
     "text": [
      "    def example1(self, **args):\n",
      "        \"\"\"\n",
      "        Example 1:\n",
      "        Create a **10x10** array with random values\n",
      "        find the minimum and maximum values\n",
      "        print the values with 5 decimals\n",
      "        print the array with 3 decimals\n",
      "        :param **args: np.array 2D.\n",
      "        \"\"\"\n",
      "        if len(args)!=0:\n",
      "            Z = args\n",
      "        else:\n",
      "            Z = np.random.random((10,10))\n",
      "        print(\"NUMPY Example1 - running\\n\")\n",
      "        Zmin, Zmax = Z.max(), Z.min()\n",
      "        print(\"Zmin=\", \"{:2.5f}\".format(Zmin),\" Zmax=\",\"{:2.5f}\".format(Zmax))\n",
      "        print(Z.round(3))\n",
      "        return\n",
      "\n",
      "    def example1(self, **args):\n",
      "        \"\"\"\n",
      "        Example 1:\n",
      "        Create a **10x10** array with random values\n",
      "        find the minimum and maximum values\n",
      "        print the values with 5 decimals\n",
      "        print the array with 3 decimals\n",
      "        :param **args: np.array 2D.\n",
      "        \"\"\"\n",
      "        if len(args)!=0:\n",
      "            Z = args\n",
      "        else:\n",
      "            Z = np.random.random((10,10))\n",
      "        print(\"NUMPY Example1 - running\\n\")\n",
      "        Zmin, Zmax = Z.max(), Z.min()\n",
      "        print(\"Zmin=\", \"{:2.5f}\".format(Zmin),\" Zmax=\",\"{:2.5f}\".format(Zmax))\n",
      "        print(Z.round(3))\n",
      "        return\n",
      "\n"
     ]
    }
   ],
   "source": [
    "# Same stuff done twice.\n",
    "print(inspect.getsource(exerc.example1))\n",
    "exerc.viewCode('example1') "
   ]
  },
  {
   "cell_type": "code",
   "execution_count": 31,
   "metadata": {},
   "outputs": [
    {
     "data": {
      "text/plain": [
       "['example1',\n",
       " 'example2',\n",
       " 'example3',\n",
       " 'example4',\n",
       " 'example5',\n",
       " 'example6',\n",
       " 'example7',\n",
       " 'example8',\n",
       " 'example9',\n",
       " 'example10']"
      ]
     },
     "execution_count": 31,
     "metadata": {},
     "output_type": "execute_result"
    }
   ],
   "source": [
    "exercises = exerc.all_examples()\n",
    "exercises"
   ]
  }
 ],
 "metadata": {
  "kernelspec": {
   "display_name": "Python 3",
   "language": "python",
   "name": "python3"
  },
  "language_info": {
   "codemirror_mode": {
    "name": "ipython",
    "version": 3
   },
   "file_extension": ".py",
   "mimetype": "text/x-python",
   "name": "python",
   "nbconvert_exporter": "python",
   "pygments_lexer": "ipython3",
   "version": "3.7.3"
  },
  "latex_envs": {
   "LaTeX_envs_menu_present": true,
   "autoclose": false,
   "autocomplete": true,
   "bibliofile": "biblio.bib",
   "cite_by": "apalike",
   "current_citInitial": 1,
   "eqLabelWithNumbers": true,
   "eqNumInitial": 1,
   "hotkeys": {
    "equation": "Ctrl-E",
    "itemize": "Ctrl-I"
   },
   "labels_anchors": false,
   "latex_user_defs": false,
   "report_style_numbering": false,
   "user_envs_cfg": false
  },
  "varInspector": {
   "cols": {
    "lenName": 16,
    "lenType": 16,
    "lenVar": 40
   },
   "kernels_config": {
    "python": {
     "delete_cmd_postfix": "",
     "delete_cmd_prefix": "del ",
     "library": "var_list.py",
     "varRefreshCmd": "print(var_dic_list())"
    },
    "r": {
     "delete_cmd_postfix": ") ",
     "delete_cmd_prefix": "rm(",
     "library": "var_list.r",
     "varRefreshCmd": "cat(var_dic_list()) "
    }
   },
   "types_to_exclude": [
    "module",
    "function",
    "builtin_function_or_method",
    "instance",
    "_Feature"
   ],
   "window_display": false
  }
 },
 "nbformat": 4,
 "nbformat_minor": 2
}
