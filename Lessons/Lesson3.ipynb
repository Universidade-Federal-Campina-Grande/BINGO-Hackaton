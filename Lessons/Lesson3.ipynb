{
 "cells": [
  {
   "cell_type": "markdown",
   "metadata": {},
   "source": [
    "# BINGO Hackaton - Lecture 03\n",
    "*Luciano Barosi*\n",
    "\n",
    "**BINGO Collaboration**"
   ]
  },
  {
   "cell_type": "code",
   "execution_count": 1,
   "metadata": {},
   "outputs": [],
   "source": [
    "import os\n",
    "import sys\n",
    "sys.path.append('/home/cosmos/code/cosmos/lessons/')"
   ]
  },
  {
   "cell_type": "code",
   "execution_count": 2,
   "metadata": {},
   "outputs": [],
   "source": [
    "import lessons"
   ]
  },
  {
   "cell_type": "code",
   "execution_count": 3,
   "metadata": {},
   "outputs": [],
   "source": [
    "exerc = lessons.Lesson1()"
   ]
  },
  {
   "cell_type": "code",
   "execution_count": 4,
   "metadata": {},
   "outputs": [
    {
     "name": "stdout",
     "output_type": "stream",
     "text": [
      "\n",
      "        Example 1:\n",
      "        Create a **10x10** array with random values\n",
      "        find the minimum and maximum values\n",
      "        print the values with 5 decimals\n",
      "        print the array with 3 decimals\n",
      "        :param **args: np.array 2D.\n",
      "        \n",
      "\n",
      "        Example 2:\n",
      "        How to add a border (filled with 0's) around an existing array?\n",
      "\n",
      "        :param **args: np.array 2D.\n",
      "        \n",
      "\n",
      "        Example 3:\n",
      "        Create a 8x8 matrix and fill it with a checkerboard pattern\n",
      "        \n",
      "\n",
      "        Example 4:\n",
      "        Normalization of matrix\n",
      "\n",
      "        :param **args: np.array 2D.\n",
      "        \n",
      "\n",
      "        Example 5:\n",
      "        Consider a matrix representing cartesian coordinates,\n",
      "        convert them to polar coordinates. Data in ROW\n",
      "\n",
      "        :param **args: np.array 2D.\n",
      "        \n",
      "\n",
      "        Example 6:\n",
      "        Consider a vector with cartesian coordinates in ROWS.\n",
      "        find point by point distances\n",
      "\n",
      "        :param **args: np.array 2D.\n",
      "        \n",
      "\n",
      "        Example 7:\n",
      "        How to compute averages using a sliding window over an array\n",
      "        # Author: Jaime Fernández del Río\n",
      "\n",
      "        :param **args: np.array 1D.\n",
      "        \n",
      "\n",
      "        Example 8:\n",
      "        Compute the eivenvalues of a matrix\n",
      "        Compute the eigenvector of a matrix\n",
      "        Show the result is correct\n",
      "\n",
      "        :param **args: np.array 2D.\n",
      "        \n",
      "\n",
      "        Example 9:\n",
      "        Do a least square fit for supernova Data\n",
      "        and find the Hubble constant.\n",
      "\n",
      "        :param **args: np.array 2D.\n",
      "        \n",
      "\n",
      "        Example 10:\n",
      "        Implement Matropolis-Hasting algorithm for\n",
      "        gaussian likelyhood\n",
      "\n",
      "        :param **args: np.array 2D.\n",
      "        \n"
     ]
    }
   ],
   "source": [
    "exerc.viewQuestions()"
   ]
  },
  {
   "cell_type": "markdown",
   "metadata": {},
   "source": [
    "## Fitting is a science in itself.\n",
    "Check [this notebook](../Notebooks/Fitting.ipynb)"
   ]
  },
  {
   "cell_type": "markdown",
   "metadata": {},
   "source": [
    "## Finally some real data: [Supernovas](../Notebooks/Supernovas.ipynb)"
   ]
  },
  {
   "cell_type": "code",
   "execution_count": null,
   "metadata": {},
   "outputs": [],
   "source": []
  }
 ],
 "metadata": {
  "kernelspec": {
   "display_name": "Python 3",
   "language": "python",
   "name": "python3"
  },
  "language_info": {
   "codemirror_mode": {
    "name": "ipython",
    "version": 3
   },
   "file_extension": ".py",
   "mimetype": "text/x-python",
   "name": "python",
   "nbconvert_exporter": "python",
   "pygments_lexer": "ipython3",
   "version": "3.7.3"
  }
 },
 "nbformat": 4,
 "nbformat_minor": 2
}
