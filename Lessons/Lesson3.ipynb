{
 "cells": [
  {
   "cell_type": "markdown",
   "metadata": {},
   "source": [
    "# BINGO Hackaton - Lecture 03\n",
    "*Luciano Barosi*\n",
    "\n",
    "**BINGO Collaboration**"
   ]
  },
  {
   "cell_type": "code",
   "execution_count": 1,
   "metadata": {},
   "outputs": [],
   "source": [
    "import os\n",
    "import sys\n",
    "sys.path.append('/home/cosmos/code/cosmos/lessons/')"
   ]
  },
  {
   "cell_type": "code",
   "execution_count": 2,
   "metadata": {},
   "outputs": [],
   "source": [
    "import lessons"
   ]
  },
  {
   "cell_type": "code",
   "execution_count": 3,
   "metadata": {},
   "outputs": [],
   "source": [
    "exerc = lessons.Lesson1()"
   ]
  },
  {
   "cell_type": "code",
   "execution_count": 4,
   "metadata": {},
   "outputs": [
    {
     "name": "stdout",
     "output_type": "stream",
     "text": [
      "    def example1(self, **args):\n",
      "        \"\"\"\n",
      "        Example 1:\n",
      "        Create a **10x10** array with random values\n",
      "        find the minimum and maximum values\n",
      "        print the values with 5 decimals\n",
      "        print the array with 3 decimals\n",
      "        :param **args: np.array 2D.\n",
      "        \"\"\"\n",
      "        if len(args)!=0:\n",
      "            Z = args\n",
      "        else:\n",
      "            Z = np.random.random((10,10))\n",
      "        print(\"NUMPY Example1 - running\\n\")\n",
      "        Zmin, Zmax = Z.max(), Z.min()\n",
      "        print(\"Zmin=\", \"{:2.5f}\".format(Zmin),\" Zmax=\",\"{:2.5f}\".format(Zmax))\n",
      "        print(Z.round(3))\n",
      "        return\n",
      "\n",
      "    def example2(self, **args):\n",
      "        \"\"\"\n",
      "        Example 2:\n",
      "        How to add a border (filled with 0's) around an existing array?\n",
      "\n",
      "        :param **args: np.array 2D.\n",
      "        \"\"\"\n",
      "        if len(args)!=0:\n",
      "            Z = args\n",
      "        else:\n",
      "            Z = np.ones((5,5))\n",
      "        print(\"NUMPY Example2 - running\\n\")\n",
      "        Z = np.pad(Z, pad_width=1, mode='constant', constant_values=0)\n",
      "        print(Z)\n",
      "        return\n",
      "\n",
      "    def example3(self):\n",
      "        \"\"\"\n",
      "        Example 3:\n",
      "        Create a 8x8 matrix and fill it with a checkerboard pattern\n",
      "        \"\"\"\n",
      "        print(\"NUMPY Example3 - running\\n\")\n",
      "        Z = np.zeros((8,8),dtype=int)\n",
      "        Z[1::2,::2] = 1\n",
      "        Z[::2,1::2] = 1\n",
      "        print(Z)\n",
      "        return\n",
      "\n",
      "    def example4(self, **args):\n",
      "        \"\"\"\n",
      "        Example 4:\n",
      "        Normalization of matrix\n",
      "\n",
      "        :param **args: np.array 2D.\n",
      "        \"\"\"\n",
      "        if len(args)!=0:\n",
      "            Z = args\n",
      "        else:\n",
      "            Z = np.random.random((5,5))\n",
      "        print(\"NUMPY Example4 - running\\n\")\n",
      "        Z = (Z - np.mean(Z)) / (np.std(Z))\n",
      "        print(Z)\n",
      "        return\n",
      "\n",
      "    def example5(self, **args):\n",
      "        \"\"\"\n",
      "        Example 5:\n",
      "        Consider a matrix representing cartesian coordinates,\n",
      "        convert them to polar coordinates. Data in ROW\n",
      "\n",
      "        :param **args: np.array 2D.\n",
      "        \"\"\"\n",
      "        if len(args)!=0:\n",
      "            Z = args\n",
      "        else:\n",
      "            Z = np.random.random((10,2))\n",
      "        print(\"NUMPY Example5 - running\\n\")\n",
      "        X,Y = Z[:,0], Z[:,1]\n",
      "        R = np.sqrt(X**2+Y**2)\n",
      "        T = np.arctan2(Y,X)\n",
      "        print(R)\n",
      "        print(T)\n",
      "        return\n",
      "\n",
      "    def example6(self, **args):\n",
      "        \"\"\"\n",
      "        Example 6:\n",
      "        Consider a vector with cartesian coordinates in ROWS.\n",
      "        find point by point distances\n",
      "\n",
      "        :param **args: np.array 2D.\n",
      "        \"\"\"\n",
      "        if len(args)!=0:\n",
      "            Z = args\n",
      "        else:\n",
      "            Z = np.random.random((10,2))\n",
      "        print(\"NUMPY Example6 - running\\n\")\n",
      "        X,Y = np.atleast_2d(Z[:,0], Z[:,1])\n",
      "        D = np.sqrt( (X-X.T)**2 + (Y-Y.T)**2)\n",
      "        print(D)\n",
      "        return\n",
      "\n",
      "    def example7(self, *args):\n",
      "        \"\"\"\n",
      "        Example 7:\n",
      "        How to compute averages using a sliding window over an array\n",
      "        # Author: Jaime Fernández del Río\n",
      "\n",
      "        :param **args: np.array 1D.\n",
      "        \"\"\"\n",
      "        if len(args)!=0:\n",
      "            Z = args\n",
      "        else:\n",
      "            Z = np.arange(20)\n",
      "        print(\"NUMPY Example7 - running\\n\")\n",
      "        def moving_average(a, n=3) :\n",
      "            ret = np.cumsum(a, dtype=float)\n",
      "            ret[n:] = ret[n:] - ret[:-n]\n",
      "            return ret[n - 1:] / n\n",
      "\n",
      "        print(moving_average(Z, n=3))\n",
      "        return\n",
      "\n",
      "    def example8(self, **args):\n",
      "        \"\"\"\n",
      "        Example 8:\n",
      "        Compute the eivenvalues of a matrix\n",
      "        Compute the eigenvector of a matrix\n",
      "        Show the result is correct\n",
      "\n",
      "        :param **args: np.array 2D.\n",
      "        \"\"\"\n",
      "        # Compute the Eigenvalues\n",
      "        print(\"NUMPY Example8 - running\\n\")\n",
      "        if len(args)!=0:\n",
      "            Z = args\n",
      "        else:\n",
      "            Z = np.random.random((20,20))\n",
      "\n",
      "        return\n",
      "\n",
      "    def example9(self, **args):\n",
      "        \"\"\"\n",
      "        Example 9:\n",
      "        Do a least square fit for supernova Data\n",
      "        and find the Hubble constant.\n",
      "\n",
      "        :param **args: np.array 2D.\n",
      "        \"\"\"\n",
      "        print(\"NUMPY Example9 - running\\n\")\n",
      "\n",
      "        return\n",
      "\n",
      "    def example10(self, **args):\n",
      "        \"\"\"\n",
      "        Example 10:\n",
      "        Implement Matropolis-Hasting algorithm for\n",
      "        gaussian likelyhood\n",
      "\n",
      "        :param **args: np.array 2D.\n",
      "        \"\"\"\n",
      "        print(\"NUMPY Example10 - running\\n\")\n",
      "        return\n",
      "\n"
     ]
    }
   ],
   "source": [
    "exerc.viewCode()"
   ]
  },
  {
   "cell_type": "code",
   "execution_count": 6,
   "metadata": {},
   "outputs": [],
   "source": [
    "import inspect"
   ]
  },
  {
   "cell_type": "code",
   "execution_count": 8,
   "metadata": {},
   "outputs": [
    {
     "data": {
      "text/plain": [
       "[('__init__',\n",
       "  <bound method Lesson1.__init__ of <lessons.Lesson1 object at 0x7f78b438e400>>),\n",
       " ('all_examples',\n",
       "  <bound method Lessons.all_examples of <lessons.Lesson1 object at 0x7f78b438e400>>),\n",
       " ('callExamples',\n",
       "  <bound method Lessons.callExamples of <lessons.Lesson1 object at 0x7f78b438e400>>),\n",
       " ('example1',\n",
       "  <bound method Lesson1.example1 of <lessons.Lesson1 object at 0x7f78b438e400>>),\n",
       " ('example10',\n",
       "  <bound method Lesson1.example10 of <lessons.Lesson1 object at 0x7f78b438e400>>),\n",
       " ('example2',\n",
       "  <bound method Lesson1.example2 of <lessons.Lesson1 object at 0x7f78b438e400>>),\n",
       " ('example3',\n",
       "  <bound method Lesson1.example3 of <lessons.Lesson1 object at 0x7f78b438e400>>),\n",
       " ('example4',\n",
       "  <bound method Lesson1.example4 of <lessons.Lesson1 object at 0x7f78b438e400>>),\n",
       " ('example5',\n",
       "  <bound method Lesson1.example5 of <lessons.Lesson1 object at 0x7f78b438e400>>),\n",
       " ('example6',\n",
       "  <bound method Lesson1.example6 of <lessons.Lesson1 object at 0x7f78b438e400>>),\n",
       " ('example7',\n",
       "  <bound method Lesson1.example7 of <lessons.Lesson1 object at 0x7f78b438e400>>),\n",
       " ('example8',\n",
       "  <bound method Lesson1.example8 of <lessons.Lesson1 object at 0x7f78b438e400>>),\n",
       " ('example9',\n",
       "  <bound method Lesson1.example9 of <lessons.Lesson1 object at 0x7f78b438e400>>),\n",
       " ('viewCode',\n",
       "  <bound method Lessons.viewCode of <lessons.Lesson1 object at 0x7f78b438e400>>),\n",
       " ('viewQuestions',\n",
       "  <bound method Lessons.viewQuestions of <lessons.Lesson1 object at 0x7f78b438e400>>)]"
      ]
     },
     "execution_count": 8,
     "metadata": {},
     "output_type": "execute_result"
    }
   ],
   "source": [
    "inspect.getmembers(exerc, inspect.ismethod)"
   ]
  },
  {
   "cell_type": "code",
   "execution_count": 30,
   "metadata": {},
   "outputs": [
    {
     "name": "stdout",
     "output_type": "stream",
     "text": [
      "    def example1(self, **args):\n",
      "        \"\"\"\n",
      "        Example 1:\n",
      "        Create a **10x10** array with random values\n",
      "        find the minimum and maximum values\n",
      "        print the values with 5 decimals\n",
      "        print the array with 3 decimals\n",
      "        :param **args: np.array 2D.\n",
      "        \"\"\"\n",
      "        if len(args)!=0:\n",
      "            Z = args\n",
      "        else:\n",
      "            Z = np.random.random((10,10))\n",
      "        print(\"NUMPY Example1 - running\\n\")\n",
      "        Zmin, Zmax = Z.max(), Z.min()\n",
      "        print(\"Zmin=\", \"{:2.5f}\".format(Zmin),\" Zmax=\",\"{:2.5f}\".format(Zmax))\n",
      "        print(Z.round(3))\n",
      "        return\n",
      "\n",
      "    def example1(self, **args):\n",
      "        \"\"\"\n",
      "        Example 1:\n",
      "        Create a **10x10** array with random values\n",
      "        find the minimum and maximum values\n",
      "        print the values with 5 decimals\n",
      "        print the array with 3 decimals\n",
      "        :param **args: np.array 2D.\n",
      "        \"\"\"\n",
      "        if len(args)!=0:\n",
      "            Z = args\n",
      "        else:\n",
      "            Z = np.random.random((10,10))\n",
      "        print(\"NUMPY Example1 - running\\n\")\n",
      "        Zmin, Zmax = Z.max(), Z.min()\n",
      "        print(\"Zmin=\", \"{:2.5f}\".format(Zmin),\" Zmax=\",\"{:2.5f}\".format(Zmax))\n",
      "        print(Z.round(3))\n",
      "        return\n",
      "\n"
     ]
    }
   ],
   "source": [
    "# Same stuff done twice.\n",
    "print(inspect.getsource(exerc.example1))\n",
    "exerc.viewCode('example1') "
   ]
  },
  {
   "cell_type": "code",
   "execution_count": 31,
   "metadata": {},
   "outputs": [
    {
     "data": {
      "text/plain": [
       "['example1',\n",
       " 'example2',\n",
       " 'example3',\n",
       " 'example4',\n",
       " 'example5',\n",
       " 'example6',\n",
       " 'example7',\n",
       " 'example8',\n",
       " 'example9',\n",
       " 'example10']"
      ]
     },
     "execution_count": 31,
     "metadata": {},
     "output_type": "execute_result"
    }
   ],
   "source": [
    "exercises = exerc.all_examples()\n",
    "exercises"
   ]
  },
  {
   "cell_type": "code",
   "execution_count": 32,
   "metadata": {},
   "outputs": [
    {
     "name": "stdout",
     "output_type": "stream",
     "text": [
      "NUMPY Example1 - running\n",
      "\n",
      "Zmin= 0.99991  Zmax= 0.00314\n",
      "[[0.859 0.022 0.237 0.003 0.839 0.698 0.21  0.452 0.461 0.796]\n",
      " [0.259 0.17  0.122 0.276 0.008 0.239 0.08  0.068 0.297 0.15 ]\n",
      " [0.917 0.221 0.88  0.706 0.695 0.563 0.177 0.378 0.885 0.071]\n",
      " [0.856 0.29  0.944 0.126 0.537 0.176 0.097 0.747 0.665 0.999]\n",
      " [0.627 0.161 0.919 0.984 0.947 0.708 0.159 0.78  0.891 0.826]\n",
      " [0.499 0.799 0.496 0.716 0.891 0.605 0.403 0.871 0.711 0.056]\n",
      " [0.822 0.551 0.22  0.932 0.693 0.413 0.921 0.546 0.488 0.931]\n",
      " [0.559 0.653 0.535 0.056 0.764 0.696 0.534 0.525 0.708 0.356]\n",
      " [0.299 0.961 1.    0.185 0.009 0.905 0.405 0.193 0.234 0.704]\n",
      " [0.624 0.144 0.604 0.094 0.87  0.843 0.28  0.421 0.844 0.021]]\n"
     ]
    }
   ],
   "source": [
    "exerc.example1()"
   ]
  },
  {
   "cell_type": "code",
   "execution_count": 17,
   "metadata": {},
   "outputs": [
    {
     "name": "stdout",
     "output_type": "stream",
     "text": [
      "NUMPY Example1 - running\n",
      "\n",
      "Zmin= 0.98399  Zmax= 0.00235\n",
      "[[0.585 0.287 0.241 0.425 0.364 0.638 0.976 0.637 0.889 0.008]\n",
      " [0.264 0.002 0.112 0.763 0.473 0.109 0.609 0.13  0.942 0.253]\n",
      " [0.461 0.682 0.938 0.684 0.113 0.028 0.141 0.308 0.786 0.984]\n",
      " [0.433 0.068 0.878 0.54  0.527 0.886 0.651 0.442 0.315 0.538]\n",
      " [0.361 0.934 0.129 0.053 0.874 0.359 0.153 0.543 0.359 0.709]\n",
      " [0.255 0.445 0.252 0.095 0.561 0.922 0.24  0.103 0.785 0.158]\n",
      " [0.779 0.828 0.026 0.411 0.342 0.755 0.86  0.412 0.297 0.464]\n",
      " [0.096 0.583 0.966 0.61  0.753 0.758 0.498 0.434 0.563 0.499]\n",
      " [0.584 0.078 0.344 0.401 0.236 0.676 0.249 0.56  0.905 0.61 ]\n",
      " [0.488 0.583 0.843 0.11  0.504 0.488 0.682 0.254 0.479 0.764]]\n",
      "NUMPY Example2 - running\n",
      "\n",
      "[[0. 0. 0. 0. 0. 0. 0.]\n",
      " [0. 1. 1. 1. 1. 1. 0.]\n",
      " [0. 1. 1. 1. 1. 1. 0.]\n",
      " [0. 1. 1. 1. 1. 1. 0.]\n",
      " [0. 1. 1. 1. 1. 1. 0.]\n",
      " [0. 1. 1. 1. 1. 1. 0.]\n",
      " [0. 0. 0. 0. 0. 0. 0.]]\n",
      "NUMPY Example3 - running\n",
      "\n",
      "[[0 1 0 1 0 1 0 1]\n",
      " [1 0 1 0 1 0 1 0]\n",
      " [0 1 0 1 0 1 0 1]\n",
      " [1 0 1 0 1 0 1 0]\n",
      " [0 1 0 1 0 1 0 1]\n",
      " [1 0 1 0 1 0 1 0]\n",
      " [0 1 0 1 0 1 0 1]\n",
      " [1 0 1 0 1 0 1 0]]\n",
      "NUMPY Example4 - running\n",
      "\n",
      "[[ 0.14382216  1.19662422  1.01429397  0.17825927 -0.98094772]\n",
      " [ 0.56868244  1.02303094  0.13734014  0.67054737 -2.27339838]\n",
      " [ 0.43103713  1.51937554 -0.79081153  0.92317978  1.42863579]\n",
      " [ 0.13382481 -0.46624722 -0.59320826  0.33585415 -0.5441506 ]\n",
      " [ 0.52443586 -1.71158982 -0.51459471 -0.38053851 -1.97345682]]\n",
      "NUMPY Example5 - running\n",
      "\n",
      "[1.1081206  1.107794   0.22291953 0.30506023 0.69621424 0.7390761\n",
      " 0.08260835 1.03264844 0.49127844 0.97471296]\n",
      "[0.96554919 0.65074581 0.94749416 1.49797275 0.40295974 1.03784896\n",
      " 0.46122359 0.65290768 0.63107221 1.1948343 ]\n",
      "NUMPY Example6 - running\n",
      "\n",
      "[[0.         0.5499803  0.0899118  0.85017027 0.33329422 0.94155064\n",
      "  0.88440476 0.21703459 0.28806276 0.33980268]\n",
      " [0.5499803  0.         0.47781654 0.65557965 0.5472831  0.84308493\n",
      "  0.88588099 0.40086956 0.28597699 0.48109787]\n",
      " [0.0899118  0.47781654 0.         0.84578871 0.3678173  0.95549454\n",
      "  0.91295557 0.20677996 0.24079908 0.35720665]\n",
      " [0.85017027 0.65557965 0.84578871 0.         0.55347273 0.2089069\n",
      "  0.32673595 0.64027833 0.63170445 0.51826927]\n",
      " [0.33329422 0.5472831  0.3678173  0.55347273 0.         0.61510862\n",
      "  0.55111292 0.19620726 0.29107947 0.06952501]\n",
      " [0.94155064 0.84308493 0.95549454 0.2089069  0.61510862 0.\n",
      "  0.16224922 0.75007636 0.76948525 0.60222623]\n",
      " [0.88440476 0.88588099 0.91295557 0.32673595 0.55111292 0.16224922\n",
      "  0.         0.71576138 0.75912439 0.5564839 ]\n",
      " [0.21703459 0.40086956 0.20677996 0.64027833 0.19620726 0.75007636\n",
      "  0.71576138 0.         0.11593543 0.16177445]\n",
      " [0.28806276 0.28597699 0.24079908 0.63170445 0.29107947 0.76948525\n",
      "  0.75912439 0.11593543 0.         0.2374976 ]\n",
      " [0.33980268 0.48109787 0.35720665 0.51826927 0.06952501 0.60222623\n",
      "  0.5564839  0.16177445 0.2374976  0.        ]]\n",
      "NUMPY Example7 - running\n",
      "\n",
      "[ 1.  2.  3.  4.  5.  6.  7.  8.  9. 10. 11. 12. 13. 14. 15. 16. 17. 18.]\n",
      "NUMPY Example8 - running\n",
      "\n",
      "NUMPY Example9 - running\n",
      "\n",
      "NUMPY Example10 - running\n",
      "\n"
     ]
    }
   ],
   "source": [
    "exerc.callExamples()"
   ]
  }
 ],
 "metadata": {
  "kernelspec": {
   "display_name": "Python 3",
   "language": "python",
   "name": "python3"
  },
  "language_info": {
   "codemirror_mode": {
    "name": "ipython",
    "version": 3
   },
   "file_extension": ".py",
   "mimetype": "text/x-python",
   "name": "python",
   "nbconvert_exporter": "python",
   "pygments_lexer": "ipython3",
   "version": "3.7.3"
  },
  "latex_envs": {
   "LaTeX_envs_menu_present": true,
   "autoclose": false,
   "autocomplete": true,
   "bibliofile": "biblio.bib",
   "cite_by": "apalike",
   "current_citInitial": 1,
   "eqLabelWithNumbers": true,
   "eqNumInitial": 1,
   "hotkeys": {
    "equation": "Ctrl-E",
    "itemize": "Ctrl-I"
   },
   "labels_anchors": false,
   "latex_user_defs": false,
   "report_style_numbering": false,
   "user_envs_cfg": false
  },
  "varInspector": {
   "cols": {
    "lenName": 16,
    "lenType": 16,
    "lenVar": 40
   },
   "kernels_config": {
    "python": {
     "delete_cmd_postfix": "",
     "delete_cmd_prefix": "del ",
     "library": "var_list.py",
     "varRefreshCmd": "print(var_dic_list())"
    },
    "r": {
     "delete_cmd_postfix": ") ",
     "delete_cmd_prefix": "rm(",
     "library": "var_list.r",
     "varRefreshCmd": "cat(var_dic_list()) "
    }
   },
   "types_to_exclude": [
    "module",
    "function",
    "builtin_function_or_method",
    "instance",
    "_Feature"
   ],
   "window_display": true
  }
 },
 "nbformat": 4,
 "nbformat_minor": 2
}
