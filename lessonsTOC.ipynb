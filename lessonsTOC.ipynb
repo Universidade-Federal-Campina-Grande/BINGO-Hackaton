{
 "cells": [
  {
   "cell_type": "markdown",
   "metadata": {},
   "source": [
    "# BINGO Hackaton\n",
    "**Luciano Barosi**"
   ]
  },
  {
   "cell_type": "markdown",
   "metadata": {},
   "source": [
    "|link | Description|\n",
    "|-----|------------|\n",
    "|[Lesson 1](./Lessons/Lesson1.ipynb)| Installing the system. Git, Docker, Bash, Markdown, LaTeX, Jupyter, Python basics |\n",
    "|[Lesson 2](./Lessons/Lesson1.ipynb)| Python basics: PEP8, functions, classes, NUMPY, MATPLOTLIB |\n",
    "|[Lesson 3](./Lessons/Lesson1.ipynb)| SCIPY, PANDAS, ASTROPY |\n",
    "|[Lesson 4](./Lessons/Lesson1.ipynb)| Cosmological Data: WMAP, PLANCK, LIGO, SDSS, JLA |\n",
    "|[Lesson 5](./Lessons/Lesson1.ipynb)| Boltzmann Codes: CAMB |\n",
    "|[Lesson 6](./Lessons/Lesson1.ipynb)| Boltzmann Codes: CLASS |\n",
    "|[Lesson 7](./Lessons/Lesson1.ipynb)| COSMOSIS |\n",
    "|[Lesson 8](./Lessons/Lesson1.ipynb)| Montecarlo methods: CosmoMC, MontePython, Multinest, GetDist |\n",
    "|[Lesson 9](./Lessons/Lesson1.ipynb)| Temporal Series: FFT, DFFT, sampling |\n",
    "|[Lesson 10](./Lessons/Lesson1.ipynb)| Introduction to Machine Learning for Cosmology |"
   ]
  },
  {
   "cell_type": "code",
   "execution_count": null,
   "metadata": {},
   "outputs": [],
   "source": []
  }
 ],
 "metadata": {
  "kernelspec": {
   "display_name": "Python 3",
   "language": "python",
   "name": "python3"
  },
  "language_info": {
   "codemirror_mode": {
    "name": "ipython",
    "version": 3
   },
   "file_extension": ".py",
   "mimetype": "text/x-python",
   "name": "python",
   "nbconvert_exporter": "python",
   "pygments_lexer": "ipython3",
   "version": "3.7.3"
  }
 },
 "nbformat": 4,
 "nbformat_minor": 2
}
