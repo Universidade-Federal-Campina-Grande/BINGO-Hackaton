{
 "cells": [
  {
   "cell_type": "markdown",
   "metadata": {},
   "source": [
    "# BINGO Hackaton\n",
    "**Luciano Barosi**"
   ]
  },
  {
   "cell_type": "markdown",
   "metadata": {},
   "source": [
    "|link | Description|\n",
    "|-----|------------|\n",
    "|[Lesson 1](./Lessons/Lesson1.ipynb)| Installing the system. Git, Docker, Bash, Markdown, LaTeX, Jupyter, Python basics |\n",
    "|[Lesson 2](./Lessons/Lesson2.ipynb)| Python basics: PEP8, functions, classes, NUMPY, MATPLOTLIB |\n",
    "|[Lesson 3](./Lessons/Lesson3.ipynb)| Creating a Module, Classes, Numpy examples |\n",
    "|[Lesson 4](./Lessons/Lesson4.ipynb)| Supernova Data, MatPlotLib and Fitting |\n",
    "|[Lesson 5](./Lessons/Lesson5.ipynb)| SunSpots: Time Series and Pandas |\n",
    "|[Lesson 6](./Lessons/Lesson6.ipynb)| FFT, Power Spectral Density, Aliasing |\n",
    "|[Lesson 7](./Lessons/Lesson7.ipynb)| ASTROPY, FITs files, Waterfall Diagrams and Filtering |\n",
    "|[Lesson 8](./Lessons/Lesson8.ipynb)| Boltzman Codes: CAMB, CLASS |\n",
    "|[Lesson 9](./Lessons/Lesson9.ipynb)| Cosmological Parameter Estimation: COSMOMC |\n",
    "|[Lesson 10](./Lessons/Lesson10.ipynb)| TBD |"
   ]
  },
  {
   "cell_type": "code",
   "execution_count": null,
   "metadata": {},
   "outputs": [],
   "source": []
  }
 ],
 "metadata": {
  "kernelspec": {
   "display_name": "Python 3",
   "language": "python",
   "name": "python3"
  },
  "language_info": {
   "codemirror_mode": {
    "name": "ipython",
    "version": 3
   },
   "file_extension": ".py",
   "mimetype": "text/x-python",
   "name": "python",
   "nbconvert_exporter": "python",
   "pygments_lexer": "ipython3",
   "version": "3.7.3"
  },
  "latex_envs": {
   "LaTeX_envs_menu_present": true,
   "autoclose": false,
   "autocomplete": true,
   "bibliofile": "biblio.bib",
   "cite_by": "apalike",
   "current_citInitial": 1,
   "eqLabelWithNumbers": true,
   "eqNumInitial": 1,
   "hotkeys": {
    "equation": "Ctrl-E",
    "itemize": "Ctrl-I"
   },
   "labels_anchors": false,
   "latex_user_defs": false,
   "report_style_numbering": false,
   "user_envs_cfg": false
  },
  "varInspector": {
   "cols": {
    "lenName": 16,
    "lenType": 16,
    "lenVar": 40
   },
   "kernels_config": {
    "python": {
     "delete_cmd_postfix": "",
     "delete_cmd_prefix": "del ",
     "library": "var_list.py",
     "varRefreshCmd": "print(var_dic_list())"
    },
    "r": {
     "delete_cmd_postfix": ") ",
     "delete_cmd_prefix": "rm(",
     "library": "var_list.r",
     "varRefreshCmd": "cat(var_dic_list()) "
    }
   },
   "types_to_exclude": [
    "module",
    "function",
    "builtin_function_or_method",
    "instance",
    "_Feature"
   ],
   "window_display": false
  }
 },
 "nbformat": 4,
 "nbformat_minor": 2
}
