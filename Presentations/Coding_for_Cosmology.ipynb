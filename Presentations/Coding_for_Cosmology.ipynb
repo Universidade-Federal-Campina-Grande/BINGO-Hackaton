{
 "cells": [
  {
   "cell_type": "markdown",
   "metadata": {
    "slideshow": {
     "slide_type": "slide"
    }
   },
   "source": [
    "# Coding for Cosmology\n",
    "\n",
    "**Luciano Barosi**\n",
    "*BINGO Collaboration*\n",
    "\n",
    "*27/Agosto/2019 - Unidade Acadêmica de Física*\n",
    "\n"
   ]
  },
  {
   "cell_type": "markdown",
   "metadata": {
    "slideshow": {
     "slide_type": "fragment"
    }
   },
   "source": [
    "<center>\n",
    "    \n",
    "<img src=\"./Assets/BINGO_(branco).png\" width=\"400\" align=\"center\"/>\n",
    "</center>\n"
   ]
  },
  {
   "cell_type": "markdown",
   "metadata": {
    "slideshow": {
     "slide_type": "slide"
    }
   },
   "source": [
    "## Goal\n",
    "\n",
    "Entice students to join our effort in human resources training for research in Modern Cosmology!\n",
    "\n",
    "## Topics Covered\n",
    "\n",
    "- A little fot about the professor\n",
    "- Idea of the course **Coding for Cosmology**\n",
    "- How the course will work\n",
    "- Syllabus\n",
    "- Schedule"
   ]
  },
  {
   "cell_type": "code",
   "execution_count": 1,
   "metadata": {
    "slideshow": {
     "slide_type": "slide"
    }
   },
   "outputs": [
    {
     "data": {
      "text/html": [
       "<iframe width=\"560\" height=\"315\" src=\"https://www.youtube.com/embed/vvr9AMWEU-c\" frameborder=\"0\" allow=\"accelerometer; autoplay; encrypted-media; gyroscope; picture-in-picture\" allowfullscreen></iframe>>"
      ],
      "text/plain": [
       "<IPython.core.display.HTML object>"
      ]
     },
     "execution_count": 1,
     "metadata": {},
     "output_type": "execute_result"
    }
   ],
   "source": [
    "from IPython.display import HTML\n",
    "HTML('<iframe width=\"560\" height=\"315\" src=\"https://www.youtube.com/embed/vvr9AMWEU-c\" frameborder=\"0\" allow=\"accelerometer; autoplay; encrypted-media; gyroscope; picture-in-picture\" allowfullscreen></iframe>>')"
   ]
  },
  {
   "cell_type": "markdown",
   "metadata": {
    "slideshow": {
     "slide_type": "slide"
    }
   },
   "source": [
    "## Something About Me!"
   ]
  },
  {
   "cell_type": "markdown",
   "metadata": {
    "slideshow": {
     "slide_type": "fragment"
    }
   },
   "source": [
    "- Tech nerd since 1989\n",
    "- I was in the first batch of commertial emails in Brasil\n",
    "- *OS:* DOS, UNIX, MACOS, WINDOWS \n",
    "- *PROGRAMMING LANGUAGES:* BASIC, PASCAL, C, C++, BASH, PERL, LISP, PHP, CSS, HTML, SQL, JAVA, **MATHEMATICA**, **R**, **PYTHON**"
   ]
  },
  {
   "cell_type": "markdown",
   "metadata": {
    "cell_style": "split",
    "slideshow": {
     "slide_type": "fragment"
    }
   },
   "source": [
    "<center>\n",
    "    \n",
    "<img src=\"./Assets/cp400.jpg\" width=\"380\" align=\"center\"/>\n",
    "</center>"
   ]
  },
  {
   "cell_type": "markdown",
   "metadata": {
    "cell_style": "split",
    "slideshow": {
     "slide_type": "fragment"
    }
   },
   "source": [
    "<center>\n",
    "\n",
    "<img src=\"./Assets/Mathematica.gif\" width=\"380\" align=\"center\"/>\n",
    "<\\center>"
   ]
  },
  {
   "cell_type": "markdown",
   "metadata": {
    "slideshow": {
     "slide_type": "slide"
    }
   },
   "source": [
    "## The Class Experience"
   ]
  },
  {
   "cell_type": "markdown",
   "metadata": {
    "slideshow": {
     "slide_type": "fragment"
    }
   },
   "source": [
    "###  Collaborative\n",
    "<img src=\"./Assets/github.png\" width=\"240\" align=\"left\"/>"
   ]
  },
  {
   "cell_type": "markdown",
   "metadata": {
    "slideshow": {
     "slide_type": "fragment"
    }
   },
   "source": [
    "###  Containerized\n",
    "<img src=\"./Assets/docker.png\" width=\"240\" align=\"left\"/>"
   ]
  },
  {
   "cell_type": "markdown",
   "metadata": {
    "slideshow": {
     "slide_type": "fragment"
    }
   },
   "source": [
    "### Interactive\n",
    " <img src=\"./Assets/Jupyter.png\" width=\"240\" align=\"left\"/>"
   ]
  },
  {
   "cell_type": "markdown",
   "metadata": {
    "slideshow": {
     "slide_type": "slide"
    }
   },
   "source": [
    "### Syllabus"
   ]
  },
  {
   "cell_type": "markdown",
   "metadata": {
    "slideshow": {
     "slide_type": "fragment"
    }
   },
   "source": [
    "### <img src=\"./Assets/python-pep8.png\" width=\"120\" align=\"left\"/> "
   ]
  },
  {
   "cell_type": "markdown",
   "metadata": {
    "slideshow": {
     "slide_type": "fragment"
    }
   },
   "source": [
    "````python\n",
    "# Python program to find the factorial of a number provided by the user. \n",
    "\n",
    "# change the value for a different result \n",
    "num = 7\n",
    "\n",
    "# uncomment to take input from the user \n",
    "#num = int(input(\"Enter a number: \")) \n",
    "\n",
    "factorial = 1\n",
    "\n",
    "# check if the number is negative, positive or zero \n",
    "if num < 0: \n",
    "print(\"Sorry, factorial does not exist for negative numbers\") \n",
    "elif num == 0: \n",
    "print(\"The factorial of 0 is 1\") \n",
    "else: \n",
    "for i in range(1,num + 1): \n",
    "\tfactorial = factorial*i \n",
    "print(\"The factorial of\",num,\"is\",factorial) \n",
    "````"
   ]
  },
  {
   "cell_type": "markdown",
   "metadata": {
    "slideshow": {
     "slide_type": "slide"
    }
   },
   "source": [
    "### <img src=\"./Assets/numpy.jpg\" width=\"240\" align=\"left\"/> "
   ]
  },
  {
   "cell_type": "markdown",
   "metadata": {
    "slideshow": {
     "slide_type": "fragment"
    }
   },
   "source": [
    "- a powerful N-dimensional array object\n",
    "- sophisticated (broadcasting) functions\n",
    "- tools for integrating C/C++ and Fortran code\n",
    "- useful linear algebra, Fourier transform, and random number capabilities"
   ]
  },
  {
   "cell_type": "markdown",
   "metadata": {
    "slideshow": {
     "slide_type": "fragment"
    }
   },
   "source": [
    "<center>\n",
    "<img src=\"./Assets/numpy_indexing.png\" width=\"480\" align=\"center\"/>\n",
    "    </center>"
   ]
  },
  {
   "cell_type": "markdown",
   "metadata": {
    "slideshow": {
     "slide_type": "slide"
    }
   },
   "source": [
    "### <img src=\"./Assets/scipy.png\" width=\"240\" align=\"left\"/>   "
   ]
  },
  {
   "cell_type": "markdown",
   "metadata": {
    "slideshow": {
     "slide_type": "fragment"
    }
   },
   "source": [
    "> SciPy is a collection of mathematical algorithms and convenience functions built on the NumPy extension of Python. It adds significant power to the interactive Python session by providing the user with high-level commands and classes for manipulating and visualizing data. With SciPy an interactive Python session becomes a data-processing and system-prototyping environment rivaling systems such as MATLAB, IDL, Octave, R-Lab, and SciLab."
   ]
  },
  {
   "cell_type": "markdown",
   "metadata": {
    "slideshow": {
     "slide_type": "slide"
    }
   },
   "source": [
    "<center>\n",
    "    \n",
    "<img src=\"./Assets/SciPy-Tutorial-01.jpg\" width=\"480\" align=\"center\"/>\n",
    "</center>"
   ]
  },
  {
   "cell_type": "markdown",
   "metadata": {
    "slideshow": {
     "slide_type": "slide"
    }
   },
   "source": [
    "### <img src=\"./Assets/matplotlib.webp\" width=\"240\" align=\"left\"/>  "
   ]
  },
  {
   "cell_type": "markdown",
   "metadata": {
    "slideshow": {
     "slide_type": "fragment"
    }
   },
   "source": [
    "<center>\n",
    "    \n",
    "<img src=\"./Assets/Union2.1_Hubble_slide.png\" width=\"480\" align=\"center\"/>\n",
    "</center>"
   ]
  },
  {
   "cell_type": "markdown",
   "metadata": {
    "slideshow": {
     "slide_type": "slide"
    }
   },
   "source": [
    "### <img src=\"./Assets/pandas.png\" width=\"240\" align=\"left\"/>   "
   ]
  },
  {
   "cell_type": "markdown",
   "metadata": {
    "slideshow": {
     "slide_type": "fragment"
    }
   },
   "source": [
    "<center>\n",
    "    \n",
    "<img src=\"./Assets/White-Noise-Series-Line-Plot.png\" width=\"480\" align=\"center\"/>\n",
    "</center>"
   ]
  },
  {
   "cell_type": "markdown",
   "metadata": {
    "slideshow": {
     "slide_type": "slide"
    }
   },
   "source": [
    "### <img src=\"./Assets/scikit-learn.png\" width=\"240\" align=\"left\"/>  "
   ]
  },
  {
   "cell_type": "markdown",
   "metadata": {
    "slideshow": {
     "slide_type": "fragment"
    }
   },
   "source": [
    "<center>\n",
    "    \n",
    "<img src=\"./Assets/fig_stellar_XD_1.png\" width=\"480\" align=\"center\"/>\n",
    "</center>"
   ]
  },
  {
   "cell_type": "markdown",
   "metadata": {
    "slideshow": {
     "slide_type": "slide"
    }
   },
   "source": [
    "### <img src=\"./Assets/astropy.png\" width=\"240\" align=\"left\"/>    "
   ]
  },
  {
   "cell_type": "markdown",
   "metadata": {
    "slideshow": {
     "slide_type": "fragment"
    }
   },
   "source": [
    "<center>\n",
    "    \n",
    "<img src=\"./Assets/Calibrated_20190531_211131BINGO-site-FITs-discone.png\" width=\"360\" align=\"left\"/>\n",
    "<img src=\"./Assets/RFI_Calibrado_SdB_20190531_211131.png\" width=\"360\" align=\"right\"/>\n",
    "</center>"
   ]
  },
  {
   "cell_type": "markdown",
   "metadata": {
    "slideshow": {
     "slide_type": "slide"
    }
   },
   "source": [
    "### <img src=\"./Assets/healpix.jpg\" width=\"120\" align=\"left\"/>    "
   ]
  },
  {
   "cell_type": "markdown",
   "metadata": {
    "slideshow": {
     "slide_type": "fragment"
    }
   },
   "source": [
    "##### <center>\n",
    "    \n",
    "<img src=\"./Assets/planck.jpeg\" width=\"360\" align=\"left\"/>\n",
    "<img src=\"./Assets/2015_TTSpectrum.png\" width=\"360\" align=\"right\"/>\n",
    "</center>"
   ]
  },
  {
   "cell_type": "markdown",
   "metadata": {
    "slideshow": {
     "slide_type": "slide"
    }
   },
   "source": [
    "### Boltzman Codes"
   ]
  },
  {
   "cell_type": "markdown",
   "metadata": {
    "slideshow": {
     "slide_type": "fragment"
    }
   },
   "source": [
    "<img src=\"./Assets/camb.png\" width=\"120\" align=\"left\"/> <img src=\"./Assets/class.png\" width=\"120\" align=\"right\"/> "
   ]
  },
  {
   "cell_type": "markdown",
   "metadata": {
    "slideshow": {
     "slide_type": "fragment"
    }
   },
   "source": [
    "<center>\n",
    "    \n",
    "<a href=\"https://www.researchgate.net/figure/The-linear-matter-power-spectrum-at-redshift-z-0-for-different-values-of-f-R0-10-2_fig4_268451835\"><img src=\"https://www.researchgate.net/profile/Lixin_Xu6/publication/268451835/figure/fig4/AS:668512020344840@1536397094390/The-linear-matter-power-spectrum-at-redshift-z-0-for-different-values-of-f-R0-10-2.png\" alt=\"The linear matter power spectrum at redshift z = 0 for different values of f R0 = −10 −2 , −10 −3 , −10 −4 , −10 −5 , 10 −6 from the top to the bottom but the last, where the other relevant values are fixed to their mean values obtained in Planck 2013 [21]. The last one is for the ΛCDM model for comparison.\" width = 400/></a>\n",
    "</center>"
   ]
  },
  {
   "cell_type": "markdown",
   "metadata": {
    "slideshow": {
     "slide_type": "slide"
    }
   },
   "source": [
    "### Cosmological Parameter Estimators"
   ]
  },
  {
   "cell_type": "markdown",
   "metadata": {
    "slideshow": {
     "slide_type": "fragment"
    }
   },
   "source": [
    "<img src=\"./Assets/cosmomc.png\" width=\"200\" align=\"left\"/>\n",
    "<img src=\"./Assets/cobaya.png\" width=\"200\" align=\"left\"/>\n",
    "<img src=\"./Assets/cosmosis.png\" width=\"200\" align=\"right\"/>\n",
    "<img src=\"./Assets/montepython.jpg\" width=\"200\" align=\"right\"/> "
   ]
  },
  {
   "cell_type": "markdown",
   "metadata": {
    "slideshow": {
     "slide_type": "fragment"
    }
   },
   "source": [
    "<center>\n",
    "\n",
    "<img src=\"./Assets/bayes.png\" width=\"400\" align=\"center\"/>\n",
    "</center>"
   ]
  },
  {
   "cell_type": "markdown",
   "metadata": {
    "slideshow": {
     "slide_type": "slide"
    }
   },
   "source": [
    "## Classes"
   ]
  },
  {
   "cell_type": "markdown",
   "metadata": {
    "slideshow": {
     "slide_type": "fragment"
    }
   },
   "source": [
    "- At least 12 hour per week\n",
    "- One week interval\n",
    "- Time to make the assessments\n",
    "- Start Date: **16/September**\n",
    "- **Wednesday/Tuesday/Friday**"
   ]
  },
  {
   "cell_type": "markdown",
   "metadata": {
    "slideshow": {
     "slide_type": "fragment"
    }
   },
   "source": [
    "## Computer Resources"
   ]
  },
  {
   "cell_type": "markdown",
   "metadata": {
    "slideshow": {
     "slide_type": "slide"
    }
   },
   "source": [
    "- **BYOD**: 12Gb available space. i5+\n",
    "- You may run the python part directly in **binder**\n",
    "- UAF lab resources"
   ]
  },
  {
   "cell_type": "markdown",
   "metadata": {
    "slideshow": {
     "slide_type": "slide"
    }
   },
   "source": [
    "<img src=\"./Assets/barosi.jpeg\" width=\"100\" align=\"left\"/> https://github.com/lbarosi/BINGO-Hackaton"
   ]
  }
 ],
 "metadata": {
  "celltoolbar": "Slideshow",
  "kernelspec": {
   "display_name": "Python 3",
   "language": "python",
   "name": "python3"
  },
  "language_info": {
   "codemirror_mode": {
    "name": "ipython",
    "version": 3
   },
   "file_extension": ".py",
   "mimetype": "text/x-python",
   "name": "python",
   "nbconvert_exporter": "python",
   "pygments_lexer": "ipython3",
   "version": "3.7.3"
  }
 },
 "nbformat": 4,
 "nbformat_minor": 2
}
