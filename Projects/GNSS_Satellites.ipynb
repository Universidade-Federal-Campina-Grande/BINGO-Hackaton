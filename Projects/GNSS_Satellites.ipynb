{
 "cells": [
  {
   "cell_type": "markdown",
   "metadata": {},
   "source": [
    "# Visualization of GNSS satellites "
   ]
  },
  {
   "cell_type": "markdown",
   "metadata": {},
   "source": [
    "Consult the package SkyField available at https://rhodesmill.org/skyfield/m.\n",
    "Our aim is to get the list of GNSS satellites and plot the sky seen from BINGO telescope with them. \n",
    "1. Given a specifit date-time, what are the satellites above the horizon?\n",
    "2. Given a specific time spac, show the satellite tracks\n",
    "3. Can you use matplotlib animate function to show the satelites moving?\n",
    "You wil need the following imports:"
   ]
  },
  {
   "cell_type": "markdown",
   "metadata": {},
   "source": [
    "````python \n",
    "from skyfield import api\n",
    "from pytz import timezone\n",
    "import numpy as np\n",
    "import matplotlib.pyplot as plt\n",
    "brasil = timezone('America/Recife')\n",
    "````"
   ]
  },
  {
   "cell_type": "markdown",
   "metadata": {},
   "source": [
    "BINGO coordinates may be set with \n",
    "````python\n",
    "BINGO = api.Topos(latitude = '7.05 S', longitude = '38.266 W')\n",
    "````\n",
    "You can pick the information for 4 constellations with the following line, from celestrak:\n",
    "````python\n",
    "GPSsats = api.load.tle('https://celestrak.com/NORAD/elements/gps-ops.txt')\n",
    "GLOsats = api.load.tle('https://celestrak.com/NORAD/elements/glo-ops.txt')\n",
    "GALILEOsats = api.load.tle('https://celestrak.com/NORAD/elements/galileo.txt')\n",
    "BEIDOUsats = api.load.tle('https://celestrak.com/NORAD/elements/beidou.txt')\n",
    "````"
   ]
  },
  {
   "cell_type": "code",
   "execution_count": null,
   "metadata": {},
   "outputs": [],
   "source": []
  }
 ],
 "metadata": {
  "kernelspec": {
   "display_name": "Python [conda env:cosmos3] *",
   "language": "python",
   "name": "conda-env-cosmos3-py"
  },
  "language_info": {
   "codemirror_mode": {
    "name": "ipython",
    "version": 3
   },
   "file_extension": ".py",
   "mimetype": "text/x-python",
   "name": "python",
   "nbconvert_exporter": "python",
   "pygments_lexer": "ipython3",
   "version": "3.7.3"
  }
 },
 "nbformat": 4,
 "nbformat_minor": 2
}
